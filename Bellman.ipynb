{
  "nbformat": 4,
  "nbformat_minor": 0,
  "metadata": {
    "colab": {
      "provenance": [],
      "authorship_tag": "ABX9TyOZv48HhSXNSICai2rWF1+z",
      "include_colab_link": true
    },
    "kernelspec": {
      "name": "python3",
      "display_name": "Python 3"
    },
    "language_info": {
      "name": "python"
    }
  },
  "cells": [
    {
      "cell_type": "markdown",
      "metadata": {
        "id": "view-in-github",
        "colab_type": "text"
      },
      "source": [
        "<a href=\"https://colab.research.google.com/github/Alejandro3009/ADA-Informes/blob/main/Bellman.ipynb\" target=\"_parent\"><img src=\"https://colab.research.google.com/assets/colab-badge.svg\" alt=\"Open In Colab\"/></a>"
      ]
    },
    {
      "cell_type": "markdown",
      "source": [
        "#**Algoritmo Bellman**\n",
        "\n",
        "#1. Descripcion del problema\n",
        "\n",
        "Tenemos un grafo dirigido con n nodos, cada arco tiene como su peso un valor que representa la distancia entre los nodos, este valor tiene dominio en los **reales**.\n",
        "\n",
        "La pregunta es cual es el camino mas corto entre un nodo $K$ al resto de nodos del grafo.\n",
        "\n",
        "* Entrada: un grafo dirigido, un nodo inicial $(K)$.\n",
        "* Salida: una lista con la distancia del nodo $K$ hasta el resto de nodos."
      ],
      "metadata": {
        "id": "dyIB72lkywTi"
      }
    },
    {
      "cell_type": "markdown",
      "source": [
        "#2. Descrpcion del algortimo\n",
        "\n",
        "##2.1. Algoritmo Bellman Ford\n",
        "\n",
        "el algortimo **bellman ford** es un algortimo el cual usa el paradigma de programacion avanzada para buscarla distanca de los nodos."
      ],
      "metadata": {
        "id": "4iLbcbll0bz6"
      }
    },
    {
      "cell_type": "code",
      "execution_count": null,
      "metadata": {
        "id": "GYhCsDKKyTqp"
      },
      "outputs": [],
      "source": [
        "# Python3 program for Bellman-Ford's single source\n",
        "# shortest path algorithm.\n",
        " \n",
        "# Class to represent a graph\n",
        " \n",
        "class Graph:\n",
        " \n",
        "    def __init__(self, vertices):\n",
        "        self.V = vertices  # No. of vertices\n",
        "        self.graph = []\n",
        " \n",
        "    # function to add an edge to graph\n",
        "    def addEdge(self, u, v, w):\n",
        "        self.graph.append([u, v, w])\n",
        " \n",
        "    # utility function used to print the solution\n",
        "    def printArr(self, dist):\n",
        "        print(\"Vertex Distance from Source\")\n",
        "        for i in range(self.V):\n",
        "            print(\"{0}\\t\\t{1}\".format(i, dist[i]))\n",
        " \n",
        "    # The main function that finds shortest distances from src to\n",
        "    # all other vertices using Bellman-Ford algorithm. The function\n",
        "    # also detects negative weight cycle\n",
        "    def BellmanFord(self, src):\n",
        " \n",
        "        # Step 1: Initialize distances from src to all other vertices\n",
        "        # as INFINITE\n",
        "        dist = [float(\"Inf\")] * self.V\n",
        "        dist[src] = 0\n",
        " \n",
        "        # Step 2: Relax all edges |V| - 1 times. A simple shortest\n",
        "        # path from src to any other vertex can have at-most |V| - 1\n",
        "        # edges\n",
        "        for _ in range(self.V - 1):\n",
        "            # Update dist value and parent index of the adjacent vertices of\n",
        "            # the picked vertex. Consider only those vertices which are still in\n",
        "            # queue\n",
        "            for u, v, w in self.graph:\n",
        "                if dist[u] != float(\"Inf\") and dist[u] + w < dist[v]:\n",
        "                    dist[v] = dist[u] + w\n",
        " \n",
        "        # Step 3: check for negative-weight cycles. The above step\n",
        "        # guarantees shortest distances if graph doesn't contain\n",
        "        # negative weight cycle. If we get a shorter path, then there\n",
        "        # is a cycle.\n",
        " \n",
        "        for u, v, w in self.graph:\n",
        "            if dist[u] != float(\"Inf\") and dist[u] + w < dist[v]:\n",
        "                print(\"Graph contains negative weight cycle\")\n",
        "                return\n",
        " \n",
        "        # print all distance\n",
        "        self.printArr(dist)\n",
        " \n",
        " \n",
        "# Driver's code\n",
        "if __name__ == '__main__':\n",
        "    g = Graph(5)\n",
        "    g.addEdge(0, 1, -1)\n",
        "    g.addEdge(0, 2, 4)\n",
        "    g.addEdge(1, 2, 3)\n",
        "    g.addEdge(1, 3, 2)\n",
        "    g.addEdge(1, 4, 2)\n",
        "    g.addEdge(3, 2, 5)\n",
        "    g.addEdge(3, 1, 1)\n",
        "    g.addEdge(4, 3, -3)\n",
        " \n",
        "    # function call\n",
        "    g.BellmanFord(0)\n",
        " \n",
        "# Initially, Contributed by Neelam Yadav\n",
        "# Later On, Edited by Himanshu Garg"
      ]
    },
    {
      "cell_type": "code",
      "source": [
        "def dijkstra(grafo,src):\n",
        "  dist = [float(\"Inf\")] * self.V\n",
        "  dist[src] = 0\n",
        " "
      ],
      "metadata": {
        "id": "mxXlopyWUVZC"
      },
      "execution_count": null,
      "outputs": []
    }
  ]
}