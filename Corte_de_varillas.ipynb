{
  "nbformat": 4,
  "nbformat_minor": 0,
  "metadata": {
    "colab": {
      "provenance": [],
      "collapsed_sections": [],
      "authorship_tag": "ABX9TyOG0ltjAkcWrUqkngK0x+6q",
      "include_colab_link": true
    },
    "kernelspec": {
      "name": "python3",
      "display_name": "Python 3"
    },
    "language_info": {
      "name": "python"
    }
  },
  "cells": [
    {
      "cell_type": "markdown",
      "metadata": {
        "id": "view-in-github",
        "colab_type": "text"
      },
      "source": [
        "<a href=\"https://colab.research.google.com/github/Alejandro3009/ADA-Informes/blob/main/Corte_de_varillas.ipynb\" target=\"_parent\"><img src=\"https://colab.research.google.com/assets/colab-badge.svg\" alt=\"Open In Colab\"/></a>"
      ]
    },
    {
      "cell_type": "markdown",
      "source": [
        "#**Corte de las varilla**\n",
        "\n",
        "#1. Descripcion del problema\n",
        "\n",
        "El problema del corte de la varilla se basa en lo siguiente, si se tiene una varilla un cierto largo, y se tiene una lista de precios con valores para ciertos largo de la varilla, cual seria el orden de los cortes optimos para maximizar el valor de la varilla.\n",
        "\n",
        "**Entrada**: Largo de varilla $n$, vector de precios por cada medida $i=1..n$\n",
        "\n",
        "**Salida**:  Retorno máximo $r_n$ que se puede obtener cortando la varilla y vendiendo las partes."
      ],
      "metadata": {
        "id": "WpBIkUTtNHRD"
      }
    },
    {
      "cell_type": "markdown",
      "source": [
        "#2. Descripcion del algoritmo\n",
        "\n",
        "En este informe se van a implementar dos algoritmos los cuales van a resolver el problema, estos algortimos implementan dos ideas de diseño diferentes, uno implementara la **programacion dinamica** mientras que el otro un metodo **recursivo**\n",
        "\n",
        "* **programacion dinamica:** la programacion dinamica es un *estilo de diseño* similar al **divide y venceras**, de divir el **problema en sub-problemas** mas pequeños para luego con las soluciones de los sub-problemas resolver el problema original, solo que en este caso mantenemos un **listado de resultados obtenidos**, para asi no tener que volver a resolver un problema ya resuelto\n"
      ],
      "metadata": {
        "id": "u4ZaiXxbOcL4"
      }
    },
    {
      "cell_type": "code",
      "source": [
        "def cutRodBottomUp(p,n,verbose = False):\n",
        "  particion = [0] * n\n",
        "  global subProblemas\n",
        "  global indice \n",
        "  \n",
        "  subProblemas = 0\n",
        "  if n == 0:\n",
        "    if verbose:\n",
        "      print(\"la varilla es de largo 0, asi que\")\n",
        "    return 0,subProblemas\n",
        "\n",
        "  for j in range(0,n):\n",
        "    if verbose:\n",
        "      print(\"analizando la varilla de largo: \",j+1)\n",
        "    value = float(\"-inf\")\n",
        "    preValue = 0\n",
        "    for i in(1,j):\n",
        "      subProblemas += 1\n",
        "      preValue = value\n",
        "      value = max(value, p[i] + particion[j-i-1])\n",
        "      if value != preValue:\n",
        "        indice = j\n",
        "    if verbose and value == (p[i] + particion[j-i-1]):\n",
        "        print(\"el maximo valor encontrado para la varilla de largo \",j+1,\" es: \",value,\"\\n\")\n",
        "    particion[j] = value\n",
        "\n",
        "  return value,subProblemas\n",
        "\n",
        "p = cutrod_instance_generator(10)\n",
        "print(\"longitud de la varilla: \",10)\n",
        "print(\"lista de precios: \",p,\"\\n\")\n",
        "value,c = cutRodBottomUp(p,10)\n",
        "print(\"mayor valor de cortes: \",value)"
      ],
      "metadata": {
        "id": "S2_luKzRRhbV",
        "colab": {
          "base_uri": "https://localhost:8080/"
        },
        "outputId": "f40c4d02-3838-4a81-9d5f-5da08d051c84"
      },
      "execution_count": 17,
      "outputs": [
        {
          "output_type": "stream",
          "name": "stdout",
          "text": [
            "longitud de la varilla:  10\n",
            "lista de precios:  [1, 5, 12, 14, 20, 21, 22, 23, 28, 37] \n",
            "\n",
            "mayor valor de cortes:  37\n"
          ]
        }
      ]
    },
    {
      "cell_type": "markdown",
      "source": [
        "Cabe resaltar que esta implementacion de **programacion dinamica** no es la unica forma de resolver este problema, tambien se puede resolver de manera **recursiva**, las diferencias entre ambas implementacion las veremos mas adelante."
      ],
      "metadata": {
        "id": "FRx4jx60eED4"
      }
    },
    {
      "cell_type": "code",
      "source": [
        "recursiones = 0\n",
        "indice = 0\n",
        "\n",
        "def cutRodRecursive(p,n,verbose = False):\n",
        "  global recursiones\n",
        "  global indice\n",
        "\n",
        "  if n == 0:\n",
        "    return 0\n",
        "  \n",
        "  aux = float(\"-inf\")\n",
        "\n",
        "  for i in range(0,n):\n",
        "    aux2 = aux\n",
        "    aux = max(aux,p[i] + cutRodRecursive(p,n-i-1))\n",
        "    if aux != aux2:\n",
        "      indice = i\n",
        "    recursiones += 1\n",
        "    if verbose:\n",
        "      print(\"el valor maximo encontrado para la varilla de largo \",i+1,\" es: \",aux)\n",
        "\n",
        "  return aux\n",
        "\n",
        "p = cutrod_instance_generator(10)\n",
        "print(\"longitud de la varilla: \",10)\n",
        "print(\"lista de precios: \",p)\n",
        "value,c = cutRodBottomUp(p,10)\n",
        "print(\"mayor valor de cortes: \",value)"
      ],
      "metadata": {
        "id": "-00DQ6UWV6sP",
        "colab": {
          "base_uri": "https://localhost:8080/"
        },
        "outputId": "b76621a6-1cf8-494b-ae07-2f11a85e7cd4"
      },
      "execution_count": 12,
      "outputs": [
        {
          "output_type": "stream",
          "name": "stdout",
          "text": [
            "longitud de la varilla:  10\n",
            "lista de precios:  [3, 11, 16, 26, 30, 37, 45, 49, 49, 56]\n",
            "mayor valor de cortes:  60\n"
          ]
        }
      ]
    },
    {
      "cell_type": "markdown",
      "source": [
        "##2.1. Ejecucion del verbose\n",
        "\n",
        "A continuación, hay otra ejecución del código **bottom up** esta vez mostrando el paso a paso de este, esta opción se habilita cuando $verbose = True$."
      ],
      "metadata": {
        "id": "G8AUJZDCgFC9"
      }
    },
    {
      "cell_type": "code",
      "source": [
        "p = cutrod_instance_generator(10)\n",
        "print(\"longitud de la varilla: \",10)\n",
        "print(\"lista de precios: \",p,\"\\n\")\n",
        "value,c = cutRodBottomUp(p,10,True)\n",
        "print(\"mayor valor de cortes: \",value)"
      ],
      "metadata": {
        "id": "nn2HGuApgSLK",
        "colab": {
          "base_uri": "https://localhost:8080/"
        },
        "outputId": "b9b441a7-aaac-48a7-f561-e9c6bd66a309"
      },
      "execution_count": 18,
      "outputs": [
        {
          "output_type": "stream",
          "name": "stdout",
          "text": [
            "longitud de la varilla:  10\n",
            "lista de precios:  [2, 4, 8, 10, 14, 23, 24, 32, 38, 47] \n",
            "\n",
            "analizando la varilla de largo:  1\n",
            "analizando la varilla de largo:  2\n",
            "el maximo valor encontrado para la varilla de largo  2  es:  4 \n",
            "\n",
            "analizando la varilla de largo:  3\n",
            "el maximo valor encontrado para la varilla de largo  3  es:  8 \n",
            "\n",
            "analizando la varilla de largo:  4\n",
            "el maximo valor encontrado para la varilla de largo  4  es:  10 \n",
            "\n",
            "analizando la varilla de largo:  5\n",
            "el maximo valor encontrado para la varilla de largo  5  es:  14 \n",
            "\n",
            "analizando la varilla de largo:  6\n",
            "el maximo valor encontrado para la varilla de largo  6  es:  23 \n",
            "\n",
            "analizando la varilla de largo:  7\n",
            "el maximo valor encontrado para la varilla de largo  7  es:  24 \n",
            "\n",
            "analizando la varilla de largo:  8\n",
            "el maximo valor encontrado para la varilla de largo  8  es:  32 \n",
            "\n",
            "analizando la varilla de largo:  9\n",
            "el maximo valor encontrado para la varilla de largo  9  es:  38 \n",
            "\n",
            "analizando la varilla de largo:  10\n",
            "el maximo valor encontrado para la varilla de largo  10  es:  47 \n",
            "\n",
            "mayor valor de cortes:  47\n"
          ]
        }
      ]
    },
    {
      "cell_type": "markdown",
      "source": [
        "#3 Tiempo de ejecucción\n",
        "\n",
        "La siguiente función nos entrega que la cantidad de subproblemas que se deben resolver para una entrada de $n$ datos.\n",
        "\n",
        "![image.png](data:image/png;base64,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)\n",
        "\n",
        "Esta ecuación nos entrega que se necesita resolver $2^n$ subproblemas para una entrada de datos de tamaño $n$.\n",
        "\n",
        "El tiempo de ejecucción para el algoritmo completo es de $O(n^2)$ debido a la necesidad de tener dos ciclos $for$ anidados para poder utilizar el metodo $bottom-up$ del algoritmo. El tiempo de ejecucción de los subproblemas, al únicamente estarse recorriendo y comparando valores tienen el valor de $O(n)$. Por último, la complejidad espacial del algoritmo es de $O(n)$, debido a que debe almacenar $n$ datos extras que son los valores máximos de cada longitud."
      ],
      "metadata": {
        "id": "KM9_2iSkf2VH"
      }
    },
    {
      "cell_type": "markdown",
      "source": [
        "#4 Correctitud\n",
        "\n",
        "Caso base:\n",
        "Cuando n = 0, ya se encuentra el valor máximo del beneficio posible, ya que este valor siempre es el mismo (0)\n",
        "\n",
        "Mantención: Luego de una n-ésima iteración, dentro del segundo for el algoritmo verifica y almacena en caso de que el valor sea mayor al máximo anterior, por lo que luego de la iteración, puede asegurarse que se guarda el máximo precio hasta el momento."
      ],
      "metadata": {
        "id": "wyQLv_FDf-0f"
      }
    },
    {
      "cell_type": "markdown",
      "source": [
        "#5. Experimentos\n",
        "\n",
        "A continuacion se realizara una serie de experimentos para comparar el rendimiento de la implementacion **dinaminca bottom up** y la implementacion **recursiva**.\n",
        "\n",
        "##5.1. tiempo de ejecucion\n",
        "\n",
        "En este experimento se comparar el tiempo de ejecucion de la implentacion **bottom up** y la **recursiva**, para esto el algortimo va a crear una lista de precios aleatoria y va ejecutar ambas implementaciones $10$ veces, de entre las cuales va a elegir la mejor y graficarla.\n",
        "\n",
        "* tiempo de ejecucion de **bottom up** (la gráfica azul)\n",
        "* Tiempo de ejecucion de **recursiva** (la gráfica naranja)\n",
        "\n",
        "para un problema que tiene un tamaño $n \\in [5,20]$"
      ],
      "metadata": {
        "id": "jQQsUupWc3UN"
      }
    },
    {
      "cell_type": "code",
      "source": [
        "import matplotlib.pyplot as plt\n",
        "import datetime\n",
        "from timeit import repeat\n",
        "import random\n",
        "\n",
        "x=[]; y=[]\n",
        "x1=[]; y1=[]\n",
        "\n",
        "for n in range(5,21):\n",
        "\n",
        "  p = cutrod_instance_generator(n)\n",
        "\n",
        "  #la función repeat está ejecutando 20 veces cada algoritmo con el arreglo a y retorna el mejor tiepo obtenido para cada uno.\n",
        "  t = repeat(setup=\"from __main__ import cutRodBottomUp\", stmt=f\"cutRodBottomUp({p},{n})\", repeat=1, number=10)\n",
        "\n",
        "  x.append(n)\n",
        "  y.append(t)\n",
        "\n",
        "  t = repeat(setup=\"from __main__ import cutRodRecursive\", stmt=f\"cutRodRecursive({p},{n})\", repeat=1, number=10)\n",
        "\n",
        "  x1.append(n)\n",
        "  y1.append(t)\n",
        "\n",
        "plt.plot(x,y)\n",
        "plt.plot(x1,y1)\n",
        "plt.legend([\"bottom up\", \"recursive\"])\n",
        "\n",
        "plt.xlabel('length of the rod')\n",
        "plt.ylabel('time in ms')\n",
        "plt.show()"
      ],
      "metadata": {
        "colab": {
          "base_uri": "https://localhost:8080/",
          "height": 279
        },
        "id": "HVwycfzqc23Q",
        "outputId": "f949da7b-d253-4ef4-c955-ebe786af6460"
      },
      "execution_count": 20,
      "outputs": [
        {
          "output_type": "display_data",
          "data": {
            "text/plain": [
              "<Figure size 432x288 with 1 Axes>"
            ],
            "image/png": "[encoded data removed]"
          },
          "metadata": {
            "needs_background": "light"
          }
        }
      ]
    },
    {
      "cell_type": "markdown",
      "source": [
        "###Analisis\n",
        "\n",
        "Como se puede observar el metodo **recursivo** y el metodo **bottom up**, a largo de su ejecucion entre los valores de $[1,12]$ se mantienen bastante similares correspecto a su tiempo de ejecucion, pero a partir de los valores entre $[13,20]$ vemos un crecimiento exponencial del tiempo de ejecucion del metodo recusivo.\n",
        "\n",
        "Desconozco el motivo de tal comportamiento, tampoco puedo proveer alguna idea o idea de donde podria encontrase la razon de tal comportamiento."
      ],
      "metadata": {
        "id": "sK1X0cfJyOLT"
      }
    },
    {
      "cell_type": "markdown",
      "source": [
        "##5.2. Cantidad de sub-arreglos\n",
        "\n",
        "A continuacion se experimentara con la cantidad de sub-problemas que debe resolver la implementacion **bottom up** a lo largo de su ejecucion.\n",
        "\n",
        "* Cantidad de sub-problemas (eje $Y$)\n",
        "* Longitud de la varilla (eje $X$)\n",
        "* Cantidad de sub-problemas basado en la longitud de la varilla (grafica azul)\n",
        "\n",
        "para un problema de tamaño $[5,50]$"
      ],
      "metadata": {
        "id": "MMmmHkgT7aPD"
      }
    },
    {
      "cell_type": "code",
      "source": [
        "import matplotlib.pyplot as plt\n",
        "\n",
        "x=[n for n in range(5,51)] \n",
        "y=[]\n",
        "\n",
        "for n in range(5,51):\n",
        "  p = cutrod_instance_generator(n)\n",
        "\n",
        "  b,counter = cutRodBottomUp(p,n)\n",
        "  y.append(counter)\n",
        "\n",
        "plt.plot(x,y)\n",
        "plt.legend([\"cantidad de sub-problemas en n\"])\n",
        "\n",
        "plt.xlabel('longitud de la varilla')\n",
        "plt.ylabel('numero de sub-problemas')\n",
        "plt.show()"
      ],
      "metadata": {
        "id": "aI2Qqpl5Zv4B",
        "colab": {
          "base_uri": "https://localhost:8080/",
          "height": 279
        },
        "outputId": "27d628d6-de38-401a-bd3d-5a5520720356"
      },
      "execution_count": null,
      "outputs": [
        {
          "output_type": "display_data",
          "data": {
            "text/plain": [
              "<Figure size 432x288 with 1 Axes>"
            ],
            "image/png": "[encoded data removed]"
          },
          "metadata": {
            "needs_background": "light"
          }
        }
      ]
    },
    {
      "cell_type": "markdown",
      "source": [
        "###Analisis\n",
        "\n",
        "como se puede apreciar en la grafica, el crecimiento de la cantidad de sub-problemas en relacion de la longitud de la varilla es constante a largo de su ejecucion."
      ],
      "metadata": {
        "id": "4hFzU3op0Y3t"
      }
    },
    {
      "cell_type": "markdown",
      "source": [
        "#6. Anexos\n",
        "\n",
        "##6.1. Codigo para generar lista de precios\n",
        "\n",
        "Este codigo es el que crea las listas de precios necesarias para hacer los experimentos y la demostracion de mostrada en el **verbose**."
      ],
      "metadata": {
        "id": "TTPRTTISxkAk"
      }
    },
    {
      "cell_type": "code",
      "source": [
        "import random\n",
        "\n",
        "def cutrod_instance_generator(N):\n",
        "  A = []\n",
        "  prev = 0\n",
        "  for i in range(N):\n",
        "    r=random.randint(0,10)\n",
        "    A.append(prev+r)\n",
        "    prev+=r\n",
        "  return A"
      ],
      "metadata": {
        "id": "bnMZcN8ATXJj"
      },
      "execution_count": 19,
      "outputs": []
    }
  ]
}