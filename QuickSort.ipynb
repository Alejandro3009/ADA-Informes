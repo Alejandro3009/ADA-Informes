{
  "nbformat": 4,
  "nbformat_minor": 0,
  "metadata": {
    "colab": {
      "provenance": [],
      "collapsed_sections": [],
      "authorship_tag": "ABX9TyPgmykY8s5mVykqXaOexBAR",
      "include_colab_link": true
    },
    "kernelspec": {
      "name": "python3",
      "display_name": "Python 3"
    },
    "language_info": {
      "name": "python"
    }
  },
  "cells": [
    {
      "cell_type": "markdown",
      "metadata": {
        "id": "view-in-github",
        "colab_type": "text"
      },
      "source": [
        "<a href=\"https://colab.research.google.com/github/Alejandro3009/ADA-Informes/blob/main/QuickSort.ipynb\" target=\"_parent\"><img src=\"https://colab.research.google.com/assets/colab-badge.svg\" alt=\"Open In Colab\"/></a>"
      ]
    },
    {
      "cell_type": "markdown",
      "source": [
        "#**Algoritmo Quick Sort**\n",
        "\n",
        "#1. Descripción del problema\n",
        "\n",
        "Un problema de ordenamiento de un conjunto de números\n",
        "\n",
        "Entrada: una secuencia de números $[a_1,a_2,a_3,...,a_n]$\n",
        "\n",
        "Salida: una permutación de la misma secuencia de números $[a_1,a_2,a_3,...,a_n]$ de tal forma que estos $a_1'\\leq a_2'\\leq a_3' \\leq... \\leq a_n'$."
      ],
      "metadata": {
        "id": "Phvfuh_OULiE"
      }
    },
    {
      "cell_type": "markdown",
      "source": [
        "\n",
        "\n",
        "#2. descripcion del algortimo\n",
        "\n",
        "El algortimo **quick sort** es un algoritmo que funciona en base al paradigma **divide y venceras** y **la recursividad**.\n",
        "\n",
        "* ***Recursividad*:** la recursividad es una manera alternativa a las iteraciones, en este método nosotros realizamos un mismo procedimiento $X$ cantidad de veces hasta llegar a un punto deseado, en ese punto empezamos a devolvernos y a resolver el problema. \n",
        "\n",
        "* ***Divides y venceras*:** la idea del paradigma reside en la idea de que al reducir el tamaño del problema este se vuelve más fácil de resolver, para luego volver en nuestros pasos hasta llegar al problema original.\n",
        "\n",
        "Este algoritmo implementa una funcion escencial para su funcionamiento la cual se llama **Partition**, la funcion **Partition** lo que hace es ordenar el arreglo en base a un pivote en dos sub-arreglos dentro del arreglo, el sub-arreglo izquierdo van a ser todos los elementos menores a el pivote y el sub-arreglo derecho son todos los elementos mayores al pivote.\n",
        "\n",
        "Esto es esencial ya que una vez el arreglo esta ordenado, el arreglo se ordena mientras este se va sub-dividiendo, esto ahorra tiempo en la ejecucion del algoritmo, a continuacion se mostrar la implementacion del codigo"
      ],
      "metadata": {
        "id": "SFInERqwblPr"
      }
    },
    {
      "cell_type": "code",
      "execution_count": 28,
      "metadata": {
        "id": "8UhecRbIClhU",
        "colab": {
          "base_uri": "https://localhost:8080/"
        },
        "outputId": "3e5bc99d-5399-47f5-c49b-cc5bd568f114"
      },
      "outputs": [
        {
          "output_type": "stream",
          "name": "stdout",
          "text": [
            "arreglo de entrada:  [45, 25, 34, 4, 16, 44, 12, 5, 36, 48]\n",
            "arreglo de salida:  [4, 5, 12, 16, 25, 34, 36, 44, 45, 48]\n",
            "cantidad de comparaciones:  35\n"
          ]
        }
      ],
      "source": [
        "import random\n",
        "from termcolor import colored\n",
        "import copy\n",
        "\n",
        "def partition(A,posPivote,contador,Verbose):\n",
        "  piv = A[posPivote]\n",
        "  if(Verbose):\n",
        "    print(\"el pivote es: \",piv)\n",
        "    print(\"el arreglo con el que se va a trabajar: \",A)\n",
        "  \n",
        "  longitud = len(A)\n",
        "  i = -1\n",
        "  j = 0\n",
        "  aux = 0\n",
        "\n",
        "  for j in range(0,longitud):\n",
        "    if(j == posPivote):\n",
        "      contador+=1\n",
        "      continue\n",
        "    elif(A[j] <= piv):\n",
        "      i += 1\n",
        "      if(i == posPivote):\n",
        "        contador+=1\n",
        "        i += 1\n",
        "      aux = A[i]\n",
        "      A[i] = A[j]\n",
        "      A[j] = aux\n",
        "      contador+=1\n",
        "\n",
        "  if(Verbose):\n",
        "    print(\"sub-arreglo de los elementos menores al pivote: \",A[0:i+1])\n",
        "    print(\"sub-arreglo de los elementos mayores al pivote: \",A[i+1:],\"\\n\")\n",
        "\n",
        "  if(posPivote <= i):\n",
        "    aux = A[i]\n",
        "    A[i] = A[posPivote]\n",
        "    A[posPivote] = aux\n",
        "    contador+=1\n",
        "    return A,i,contador\n",
        "  else:\n",
        "    aux = A[i+1]\n",
        "    A[i+1] = A[posPivote]\n",
        "    A[posPivote] = aux\n",
        "    contador+=1\n",
        "    return A,i+1,contador\n",
        "\n",
        "def mediana(A,contador,Verbose):\n",
        "  if(len(A) > 3):\n",
        "    elementos = random.sample(range(0,len(A)-1),3)\n",
        "  else:\n",
        "    return 0,contador\n",
        "  \n",
        "  if(Verbose):\n",
        "    print(\"elementos con los que se van a sacar la mediana\")\n",
        "    for i in range(0,3):\n",
        "      print(i+1,\"-\",A[elementos[i]])\n",
        "  \n",
        "  i = 1\n",
        "  menor = A[elementos[0]]\n",
        "  indiceMenor = 0\n",
        "  while(i <= 2):\n",
        "    if(A[elementos[i]] < menor):\n",
        "      menor = A[elementos[i]]\n",
        "      indiceMenor = i\n",
        "    i+=1\n",
        "    contador+=1\n",
        "\n",
        "  if(elementos[indiceMenor] != elementos[1]):\n",
        "    aux = elementos[indiceMenor]\n",
        "    elementos[indiceMenor] = elementos[1]\n",
        "    elementos[1] = aux  \n",
        "    indiceMenor = 1\n",
        "\n",
        "  if(A[elementos[indiceMenor-1]] < A[elementos[indiceMenor+1]]):\n",
        "    if(Verbose):\n",
        "      print(\"La mediana es: \",A[elementos[indiceMenor-1]],\"\\n\")\n",
        "    return elementos[indiceMenor-1],contador+1\n",
        "  else:\n",
        "    if(Verbose):\n",
        "      print(\"La mediana es: \",A[elementos[indiceMenor+1]],\"\\n\")\n",
        "    return elementos[indiceMenor+1],contador+1\n",
        "  \n",
        "\n",
        "def quickSort(A,opcion,contador,Verbose = False):\n",
        "  if(len(A) <= 1):\n",
        "    if(Verbose):\n",
        "      print(\"se llego al caso base, asi que ahora se empieza reconstruir el arreglo \\n\")\n",
        "    return A,contador\n",
        "  else:\n",
        "    if(opcion == 1):\n",
        "      posPivote = 0\n",
        "    elif(opcion == 2):\n",
        "      posPivote,contador = mediana(A,contador,Verbose)\n",
        "    elif(opcion == 3):\n",
        "      posPivote = len(A)-1\n",
        "\n",
        "    A,posPivote,contador = partition(A,posPivote,contador,Verbose)\n",
        "    B,contador = quickSort(A[0:posPivote],opcion,contador,Verbose)\n",
        "    C,contador = quickSort(A[posPivote+1:len(A)],opcion,contador,Verbose)\n",
        "\n",
        "  i = len(B)\n",
        "  j = 0\n",
        "  if(Verbose):\n",
        "    print(\"ahora se uniran los sub-arreglos izquierdo y derecho\")\n",
        "    print(\"Sub-arreglo izquierdo: \",B)\n",
        "    print(\"Sub-arreglo derecho: \",C,\"\\n\")\n",
        "  \n",
        "  for k in range(0,len(A)):\n",
        "    if(j == i):\n",
        "      j = 0\n",
        "      i = -1\n",
        "    elif(i > -1):\n",
        "      A[k] = B[j]\n",
        "      j += 1\n",
        "    elif(i == -1):\n",
        "      A[k] = C[j]\n",
        "      j += 1\n",
        "\n",
        "  if(Verbose):\n",
        "    print(\"ahora el arreglo esta trivialmente arreglado, asi que se devuelve para que pueda terminar de ordenarse\")\n",
        "    print(\"arreglo trivialmente ordenado: \",A,\"\\n\")\n",
        "  return A,contador\n",
        "\n",
        "\n",
        "a = random.sample(range(1,50),10)\n",
        "print(\"arreglo de entrada: \",a)\n",
        "a,c  = quickSort(a,3,0)\n",
        "print(\"arreglo de salida: \",a)\n",
        "print(\"cantidad de comparaciones: \",c)"
      ]
    },
    {
      "cell_type": "markdown",
      "source": [
        "Esta ejecucion del codigo utilizo esta utilizando la opcion de usar un pivote que siempre este al final del arreglo, dependiendo del valor de opcion:\n",
        "\n",
        "* El pivote se posiciona al inicio del arreglo, con $Opcion = 1$\n",
        "* El pivote se posiciona segun la mediana de tres valores aleatorios del arreglo, con $Opcion = 2$\n",
        "* El pivote se posiciona al final del arreglo, con $Opcion = 3$"
      ],
      "metadata": {
        "id": "l6rSVD3-KlOU"
      }
    },
    {
      "cell_type": "markdown",
      "source": [
        "##2.2. Ejemplo\n",
        "\n",
        "Para ordenar el siguiente arreglo ($A$) utilizando el pivote al final:\n",
        "\n",
        "$[8,2,6,4]$\n",
        "\n",
        "En la primera recusion del arreglo este se va a dividir en dos sub-arreglos de tamaño 2, el sub-arreglo izquierdo va a ser menor a 2 (el pivote) y el sub-arreglo derecho mayor a 2. \n",
        "\n",
        "$[8,2,6,4]$ -> $[2,4]$ , $[8,6]$\n",
        "\n",
        "En la segunda recusion los dos sub-arreglos se van a dividir en cuatro sub arreglos de tamaño 1, y se utilizaran dos pivotes, para el sub-arreglo izquierdo sera 4 y para el derecho sera el 6\n",
        "\n",
        "$[2,4]$ | $[8,6]$ -> $[2]$ , $[4]$ | $[6]$ , $[8]$\n",
        "\n",
        "En la tercera recusion ya que todos los sub-arreglos son de tamaño 1, ahora se uniran entre ellos, y formarán dos nuevos sub-arreglos de tamaño 2.\n",
        "\n",
        "$[2]$ , $[4]$ | $[6]$ , $[8]$ -> $[2]$ $U$ $[4]$ | $[6]$ $U$ $[8]$ -> $[2',4']$ | $[6',8']$\n",
        "\n",
        "En la cuarta recusion se uniran los dos sub-arreglos para obtener el arreglo $A'$, el cual tiene los mismos elementos que el arreglo $A$ pero ordenados.\n",
        "\n",
        "$[2',4']$ | $[6',8']$ -> $[2',4']$ $U$ $[6',8']$ -> $[2',4',6',8']$\n",
        "\n",
        "Como se puede ver en el ejemplo el arreglo, a medida se divide el arreglo este va quedando ordenado, por lo tanto un vez se llega a un sub-arreglo de tamaño 1 solo tiene que unir los sub-arreglos. "
      ],
      "metadata": {
        "id": "N-s3Ox-Ub6an"
      }
    },
    {
      "cell_type": "markdown",
      "source": [
        "##2.4. Ejecución del algoritmo paso a paso (verbose=True)\n",
        "\n",
        "A continuacion hay otra ejecucion del codigo esta vez mostrando el paso a paso de este, tambien se ejecutara un paso a paso para los tres valores que puede tener el pivote, esta opcion se habilita cuando $verbose = True$.\n",
        "\n",
        "###2.4.1. Paso a paso con pivote al inicio del arreglo"
      ],
      "metadata": {
        "id": "xHF0HX1PvQte"
      }
    },
    {
      "cell_type": "code",
      "source": [
        "a = random.sample(range(1,20),6)\n",
        "print(\"arreglo de entrada: \",a)\n",
        "a,c  = quickSort(a,1,0,True)\n",
        "print(\"arreglo de salida: \",a)\n",
        "print(\"cantidad de comparaciones: \",c)"
      ],
      "metadata": {
        "colab": {
          "base_uri": "https://localhost:8080/"
        },
        "id": "wZBqGivhvmuH",
        "outputId": "76baebb0-bedd-4966-b255-1fe813c66c9d"
      },
      "execution_count": 36,
      "outputs": [
        {
          "output_type": "stream",
          "name": "stdout",
          "text": [
            "arreglo de entrada:  [1, 4, 19, 6, 14, 11]\n",
            "el pivote es:  1\n",
            "el arreglo con el que se va a trabajar:  [1, 4, 19, 6, 14, 11]\n",
            "sub-arreglo de los elementos menores al pivote:  []\n",
            "sub-arreglo de los elementos mayores al pivote:  [1, 4, 19, 6, 14, 11] \n",
            "\n",
            "se llego al caso base, asi que ahora se empieza reconstruir el arreglo \n",
            "\n",
            "el pivote es:  4\n",
            "el arreglo con el que se va a trabajar:  [4, 19, 6, 14, 11]\n",
            "sub-arreglo de los elementos menores al pivote:  []\n",
            "sub-arreglo de los elementos mayores al pivote:  [4, 19, 6, 14, 11] \n",
            "\n",
            "se llego al caso base, asi que ahora se empieza reconstruir el arreglo \n",
            "\n",
            "el pivote es:  19\n",
            "el arreglo con el que se va a trabajar:  [19, 6, 14, 11]\n",
            "sub-arreglo de los elementos menores al pivote:  [19, 6, 14, 11]\n",
            "sub-arreglo de los elementos mayores al pivote:  [] \n",
            "\n",
            "el pivote es:  11\n",
            "el arreglo con el que se va a trabajar:  [11, 6, 14]\n",
            "sub-arreglo de los elementos menores al pivote:  [11, 6]\n",
            "sub-arreglo de los elementos mayores al pivote:  [14] \n",
            "\n",
            "se llego al caso base, asi que ahora se empieza reconstruir el arreglo \n",
            "\n",
            "se llego al caso base, asi que ahora se empieza reconstruir el arreglo \n",
            "\n",
            "ahora se uniran los sub-arreglos izquierdo y derecho\n",
            "Sub-arreglo izquierdo:  [6]\n",
            "Sub-arreglo derecho:  [14] \n",
            "\n",
            "ahora el arreglo esta trivialmente arreglado, asi que se devuelve para que pueda terminar de ordenarse\n",
            "arreglo trivialmente ordenado:  [6, 11, 14] \n",
            "\n",
            "se llego al caso base, asi que ahora se empieza reconstruir el arreglo \n",
            "\n",
            "ahora se uniran los sub-arreglos izquierdo y derecho\n",
            "Sub-arreglo izquierdo:  [6, 11, 14]\n",
            "Sub-arreglo derecho:  [] \n",
            "\n",
            "ahora el arreglo esta trivialmente arreglado, asi que se devuelve para que pueda terminar de ordenarse\n",
            "arreglo trivialmente ordenado:  [6, 11, 14, 19] \n",
            "\n",
            "ahora se uniran los sub-arreglos izquierdo y derecho\n",
            "Sub-arreglo izquierdo:  []\n",
            "Sub-arreglo derecho:  [6, 11, 14, 19] \n",
            "\n",
            "ahora el arreglo esta trivialmente arreglado, asi que se devuelve para que pueda terminar de ordenarse\n",
            "arreglo trivialmente ordenado:  [4, 6, 11, 14, 19] \n",
            "\n",
            "ahora se uniran los sub-arreglos izquierdo y derecho\n",
            "Sub-arreglo izquierdo:  []\n",
            "Sub-arreglo derecho:  [4, 6, 11, 14, 19] \n",
            "\n",
            "ahora el arreglo esta trivialmente arreglado, asi que se devuelve para que pueda terminar de ordenarse\n",
            "arreglo trivialmente ordenado:  [1, 4, 6, 11, 14, 19] \n",
            "\n",
            "arreglo de salida:  [1, 4, 6, 11, 14, 19]\n",
            "cantidad de comparaciones:  14\n"
          ]
        }
      ]
    },
    {
      "cell_type": "markdown",
      "source": [
        "###2.4.2. Paso a paso con pivote siendo la mediana de tres valores del arreglo"
      ],
      "metadata": {
        "id": "Jin6szb5v0zr"
      }
    },
    {
      "cell_type": "code",
      "source": [
        "a = random.sample(range(1,20),6)\n",
        "print(\"arreglo de entrada: \",a)\n",
        "a,c  = quickSort(a,2,0,True)\n",
        "print(\"arreglo de salida: \",a)\n",
        "print(\"cantidad de comparaciones: \",c)"
      ],
      "metadata": {
        "colab": {
          "base_uri": "https://localhost:8080/"
        },
        "id": "uj084b5gv6yM",
        "outputId": "b333d208-d69a-4708-a1e1-c7b6276c15c9"
      },
      "execution_count": 37,
      "outputs": [
        {
          "output_type": "stream",
          "name": "stdout",
          "text": [
            "arreglo de entrada:  [8, 7, 19, 2, 14, 12]\n",
            "elementos con los que se van a sacar la mediana\n",
            "1 - 2\n",
            "2 - 7\n",
            "3 - 19\n",
            "La mediana es:  7 \n",
            "\n",
            "el pivote es:  7\n",
            "el arreglo con el que se va a trabajar:  [8, 7, 19, 2, 14, 12]\n",
            "sub-arreglo de los elementos menores al pivote:  [2]\n",
            "sub-arreglo de los elementos mayores al pivote:  [7, 19, 8, 14, 12] \n",
            "\n",
            "se llego al caso base, asi que ahora se empieza reconstruir el arreglo \n",
            "\n",
            "elementos con los que se van a sacar la mediana\n",
            "1 - 19\n",
            "2 - 8\n",
            "3 - 14\n",
            "La mediana es:  14 \n",
            "\n",
            "el pivote es:  14\n",
            "el arreglo con el que se va a trabajar:  [19, 8, 14, 12]\n",
            "sub-arreglo de los elementos menores al pivote:  [8, 12]\n",
            "sub-arreglo de los elementos mayores al pivote:  [14, 19] \n",
            "\n",
            "el pivote es:  8\n",
            "el arreglo con el que se va a trabajar:  [8, 12]\n",
            "sub-arreglo de los elementos menores al pivote:  []\n",
            "sub-arreglo de los elementos mayores al pivote:  [8, 12] \n",
            "\n",
            "se llego al caso base, asi que ahora se empieza reconstruir el arreglo \n",
            "\n",
            "se llego al caso base, asi que ahora se empieza reconstruir el arreglo \n",
            "\n",
            "ahora se uniran los sub-arreglos izquierdo y derecho\n",
            "Sub-arreglo izquierdo:  []\n",
            "Sub-arreglo derecho:  [12] \n",
            "\n",
            "ahora el arreglo esta trivialmente arreglado, asi que se devuelve para que pueda terminar de ordenarse\n",
            "arreglo trivialmente ordenado:  [8, 12] \n",
            "\n",
            "se llego al caso base, asi que ahora se empieza reconstruir el arreglo \n",
            "\n",
            "ahora se uniran los sub-arreglos izquierdo y derecho\n",
            "Sub-arreglo izquierdo:  [8, 12]\n",
            "Sub-arreglo derecho:  [19] \n",
            "\n",
            "ahora el arreglo esta trivialmente arreglado, asi que se devuelve para que pueda terminar de ordenarse\n",
            "arreglo trivialmente ordenado:  [8, 12, 14, 19] \n",
            "\n",
            "ahora se uniran los sub-arreglos izquierdo y derecho\n",
            "Sub-arreglo izquierdo:  [2]\n",
            "Sub-arreglo derecho:  [8, 12, 14, 19] \n",
            "\n",
            "ahora el arreglo esta trivialmente arreglado, asi que se devuelve para que pueda terminar de ordenarse\n",
            "arreglo trivialmente ordenado:  [2, 7, 8, 12, 14, 19] \n",
            "\n",
            "arreglo de salida:  [2, 7, 8, 12, 14, 19]\n",
            "cantidad de comparaciones:  15\n"
          ]
        }
      ]
    },
    {
      "cell_type": "markdown",
      "source": [
        "###2.4.3. Paso a paso con pivote al final del arreglo"
      ],
      "metadata": {
        "id": "Y3Y0HtWCv_iI"
      }
    },
    {
      "cell_type": "code",
      "source": [
        "a = random.sample(range(1,20),6)\n",
        "print(\"arreglo de entrada: \",a)\n",
        "a,c  = quickSort(a,3,0,True)\n",
        "print(\"arreglo de salida: \",a)\n",
        "print(\"cantidad de comparaciones: \",c)"
      ],
      "metadata": {
        "colab": {
          "base_uri": "https://localhost:8080/"
        },
        "id": "Pn2CxMKZwIJM",
        "outputId": "da525026-3996-4bae-a192-a7f228677529"
      },
      "execution_count": 38,
      "outputs": [
        {
          "output_type": "stream",
          "name": "stdout",
          "text": [
            "arreglo de entrada:  [16, 15, 8, 18, 17, 3]\n",
            "el pivote es:  3\n",
            "el arreglo con el que se va a trabajar:  [16, 15, 8, 18, 17, 3]\n",
            "sub-arreglo de los elementos menores al pivote:  []\n",
            "sub-arreglo de los elementos mayores al pivote:  [16, 15, 8, 18, 17, 3] \n",
            "\n",
            "se llego al caso base, asi que ahora se empieza reconstruir el arreglo \n",
            "\n",
            "el pivote es:  16\n",
            "el arreglo con el que se va a trabajar:  [15, 8, 18, 17, 16]\n",
            "sub-arreglo de los elementos menores al pivote:  [15, 8]\n",
            "sub-arreglo de los elementos mayores al pivote:  [18, 17, 16] \n",
            "\n",
            "el pivote es:  8\n",
            "el arreglo con el que se va a trabajar:  [15, 8]\n",
            "sub-arreglo de los elementos menores al pivote:  []\n",
            "sub-arreglo de los elementos mayores al pivote:  [15, 8] \n",
            "\n",
            "se llego al caso base, asi que ahora se empieza reconstruir el arreglo \n",
            "\n",
            "se llego al caso base, asi que ahora se empieza reconstruir el arreglo \n",
            "\n",
            "ahora se uniran los sub-arreglos izquierdo y derecho\n",
            "Sub-arreglo izquierdo:  []\n",
            "Sub-arreglo derecho:  [15] \n",
            "\n",
            "ahora el arreglo esta trivialmente arreglado, asi que se devuelve para que pueda terminar de ordenarse\n",
            "arreglo trivialmente ordenado:  [8, 15] \n",
            "\n",
            "el pivote es:  18\n",
            "el arreglo con el que se va a trabajar:  [17, 18]\n",
            "sub-arreglo de los elementos menores al pivote:  [17]\n",
            "sub-arreglo de los elementos mayores al pivote:  [18] \n",
            "\n",
            "se llego al caso base, asi que ahora se empieza reconstruir el arreglo \n",
            "\n",
            "se llego al caso base, asi que ahora se empieza reconstruir el arreglo \n",
            "\n",
            "ahora se uniran los sub-arreglos izquierdo y derecho\n",
            "Sub-arreglo izquierdo:  [17]\n",
            "Sub-arreglo derecho:  [] \n",
            "\n",
            "ahora el arreglo esta trivialmente arreglado, asi que se devuelve para que pueda terminar de ordenarse\n",
            "arreglo trivialmente ordenado:  [17, 18] \n",
            "\n",
            "ahora se uniran los sub-arreglos izquierdo y derecho\n",
            "Sub-arreglo izquierdo:  [8, 15]\n",
            "Sub-arreglo derecho:  [17, 18] \n",
            "\n",
            "ahora el arreglo esta trivialmente arreglado, asi que se devuelve para que pueda terminar de ordenarse\n",
            "arreglo trivialmente ordenado:  [8, 15, 16, 17, 18] \n",
            "\n",
            "ahora se uniran los sub-arreglos izquierdo y derecho\n",
            "Sub-arreglo izquierdo:  []\n",
            "Sub-arreglo derecho:  [8, 15, 16, 17, 18] \n",
            "\n",
            "ahora el arreglo esta trivialmente arreglado, asi que se devuelve para que pueda terminar de ordenarse\n",
            "arreglo trivialmente ordenado:  [3, 8, 15, 16, 17, 18] \n",
            "\n",
            "arreglo de salida:  [3, 8, 15, 16, 17, 18]\n",
            "cantidad de comparaciones:  11\n"
          ]
        }
      ]
    },
    {
      "cell_type": "markdown",
      "source": [
        "# 3. Tiempo de de ejecucción\n",
        "El algoritmo Quicksort tiene una complejidad temporal en el mejor y el caso promedio de $O(nlogn)$, esto es debido a que recursivamente este va dividiendo en sub-arreglos y luego los recorre para ordenarlos. En el peor caso la complejidad temporal sube a $O(n^2)$, esto es debido a que el arreglo original entregado se encontraba en su mayoría ya ordenado y el pivote se encuentra en el dato mayor, en otras palabras, en la posición más a la derecha.\n",
        "\n",
        "La función de recurrencia que representa el QuickSort cuando se encuentra balanceado es la siguiente: \n",
        "\n",
        "![image.png](data:image/png;base64,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)\n"
      ],
      "metadata": {
        "id": "ZvywZ78y-pxI"
      }
    },
    {
      "cell_type": "markdown",
      "source": [
        "#5. Experimentos\n",
        "\n",
        "Ahora realizaremos un numero de experimentos que nos ayudaran a visualizar la eficacia del **Quick Sort** en ciertos aspectos.\n",
        "\n",
        "##5.1. Numero de comparaciones\n",
        "\n",
        "En este experimento se comprobara el numero de comparaciones que el **Quick Sort** necesita realizar para poder ordenar una lista en su totailidad.\n",
        "\n",
        "Para ello se hizo una grafica en la que se muestra.\n",
        "\n",
        "* La cantidad de comparaciones del peor caso calculadas matemáticamente ($n^2$ comparaciones si se forma un arbol desbalanceado)\n",
        "* La cantidad de comparaciones del mejor caso calculadas matemáticamente ($n*log(n)$ comparaciones si se forma un arbol balanceado)\n",
        "* La cantidad de comparaciones realizadas experimentalmente para entradas aleatorias\n",
        "\n",
        "para un problema que tiene un tamaño $n \\in [5,20]$"
      ],
      "metadata": {
        "id": "5NdDCVi2k9Ul"
      }
    },
    {
      "cell_type": "code",
      "source": [
        "import matplotlib.pyplot as plt\n",
        "import math\n",
        "import random\n",
        "\n",
        "x=[n for n in range(5,21)] \n",
        "y1=[n*n for n in range(5,21)] # Peor caso\n",
        "y2=[n*math.log2(n) for n in range(5,21)] # Mejor caso\n",
        "y=[]; \n",
        "\n",
        "for n in range(5,21):\n",
        "  a = random.sample(range(1, 100), n)\n",
        "  a,counter = quickSort(a,1,0)\n",
        "  y.append(counter)\n",
        "\n",
        "plt.plot(x,y)\n",
        "plt.plot(x,y1)\n",
        "plt.plot(x,y2)\n",
        "plt.legend([\"Quick Sort\", \"Peor caso teorico\", \"Mejor caso teorico\"])\n",
        "\n",
        "plt.xlabel('n')\n",
        "plt.ylabel('numero de comparaciones')\n",
        "plt.show()"
      ],
      "metadata": {
        "colab": {
          "base_uri": "https://localhost:8080/",
          "height": 279
        },
        "id": "P3DNgrtBqLCr",
        "outputId": "9db544f7-22f1-440d-ce29-5b74d4e8eea7"
      },
      "execution_count": 39,
      "outputs": [
        {
          "output_type": "display_data",
          "data": {
            "text/plain": [
              "<Figure size 432x288 with 1 Axes>"
            ],
            "image/png": "[encoded data removed]"
          },
          "metadata": {
            "needs_background": "light"
          }
        }
      ]
    },
    {
      "cell_type": "markdown",
      "source": [
        "###Análisis de resultados\n",
        "\n",
        "Como se puede apreciar en el gráfico, el número de comparaciones que realiza en promedio el algoritmo oscila alrededor del mejor caso, esto era de esperarse ya que el **Quick Sort** tiene una implementacion similar a la del **Merge Sort** el cual tiene el mismo comportamiento."
      ],
      "metadata": {
        "id": "p62iR4R7AMB_"
      }
    },
    {
      "cell_type": "markdown",
      "source": [
        "##5.2. Rendimiento segun el pivote\n",
        "\n",
        "En este experimento se probara si el rendimiento del algoritmo **Quick Sort** se ve afectado segun la posicion donde se coloque el pivote.\n",
        "\n",
        "* La cantidad de comparaciones que el **Quick Sort** con el pivote al inicio realiza (la gráfica azul)\n",
        "* La cantidad de comparaciones que el **Quick Sort** con el pivote en la mediana realiza (la gráfica naranja)\n",
        "* La cantidad de comparaciones que el **Quick Sort** con el pivote al final realiza (la gráfica verde)\n",
        "\n",
        "para un problema que tiene un tamaño $n \\in [5,50]$"
      ],
      "metadata": {
        "id": "Wpcl5wVH4xny"
      }
    },
    {
      "cell_type": "code",
      "source": [
        "import matplotlib.pyplot as plt\n",
        "import math\n",
        "\n",
        "x=[n for n in range(5,51)] \n",
        "y1=[] # pivote al inicio\n",
        "y2=[] # pivote segun la mediana\n",
        "y3=[] # pivote al final\n",
        "\n",
        "for n in range(5,51):\n",
        "  a = random.sample(range(1, 100), n)\n",
        "  a,counter = quickSort(a,1,0)\n",
        "  y1.append(counter)\n",
        "\n",
        "  a,counter = quickSort(a,2,0)\n",
        "  y2.append(counter)\n",
        "\n",
        "  a,counter = quickSort(a,3,0)\n",
        "  y3.append(counter)\n",
        "\n",
        "plt.plot(x,y1)\n",
        "plt.plot(x,y2)\n",
        "plt.plot(x,y3)\n",
        "plt.legend([\"pivote al inicio\", \"pivote segun la mediana\", \"pivote al final\"])\n",
        "\n",
        "plt.xlabel('n')\n",
        "plt.ylabel('numero de comparaciones')\n",
        "plt.show()"
      ],
      "metadata": {
        "colab": {
          "base_uri": "https://localhost:8080/",
          "height": 279
        },
        "id": "RR60CSDb6E2n",
        "outputId": "548ad253-4aa7-4d05-ca14-4c870956564f"
      },
      "execution_count": 40,
      "outputs": [
        {
          "output_type": "display_data",
          "data": {
            "text/plain": [
              "<Figure size 432x288 with 1 Axes>"
            ],
            "image/png": "[encoded data removed]"
          },
          "metadata": {
            "needs_background": "light"
          }
        }
      ]
    },
    {
      "cell_type": "markdown",
      "source": [
        "Como se puede observar en la grafica, al el pivote al inicio o en la mediana no va a afectar el rendimiento del algoritmo a lo largo de su ejecucion, y esto deberia ser cierto al colocar el pivote al final.\n",
        "\n",
        "Por algun motivo este tiene un crecimiento exponencial, se desconoce el motivo de este comportamiento."
      ],
      "metadata": {
        "id": "mXCB3gAu6l2E"
      }
    },
    {
      "cell_type": "markdown",
      "source": [
        "##5.3. Comparacion entre algoritmos\n",
        "\n",
        "En este experimento se compararán dos algoritmos recusivos el **Quick Sort** y el **Merge Sort**, en especifico se comparara el numero de comparaciones que realizan ambos algoritmos. Tambien se comparara el **Quick Sort** con los pivotes al inicio, en la mediana y al final\n",
        "\n",
        "Para ello se hizo una gráfica en la que se muestra.\n",
        "\n",
        "* La cantidad de comparaciones que el **Quick Sort** con el pivote al inicio realiza (la gráfica azul)\n",
        "* La cantidad de comparaciones que el **Quick Sort** con el pivote en la mediana realiza (la gráfica naranja)\n",
        "* La cantidad de comparaciones que el **Quick Sort** con el pivote al final realiza (la gráfica verde)\n",
        "* La cantidad de comparaciones que el **Merge Sort** realiza (la gráfica roja).\n",
        "\n",
        "para un problema que tiene un tamaño $n \\in [5,50]$"
      ],
      "metadata": {
        "id": "Z-gI2b2W75oK"
      }
    },
    {
      "cell_type": "code",
      "source": [
        "import matplotlib.pyplot as plt\n",
        "\n",
        "x=[n for n in range(5,51)] \n",
        "y1=[]; \n",
        "y2=[];\n",
        "y3=[];\n",
        "y4=[];\n",
        "\n",
        "for n in range(5,51):\n",
        "  a = random.sample(range(1, 100), n)\n",
        "  a,counter = quickSort(a,1,0)\n",
        "  y1.append(counter)\n",
        "\n",
        "  a,counter = quickSort(a,2,0)\n",
        "  y2.append(counter)\n",
        "\n",
        "  a,counter = quickSort(a,3,0)\n",
        "  y3.append(counter)\n",
        "\n",
        "  a,counter = Merge_Sort(a)\n",
        "  y4.append(counter)\n",
        "\n",
        "plt.plot(x,y1)\n",
        "plt.plot(x,y2)\n",
        "plt.plot(x,y3)\n",
        "plt.plot(x,y4)\n",
        "plt.legend([\"Quick Sort (piv Inicio)\",\"Quick Sort (piv mediana)\",\"Quick Sort (piv final)\", \"Merge Sort\"])\n",
        "\n",
        "plt.xlabel('n')\n",
        "plt.ylabel('number of operations')\n",
        "plt.show()"
      ],
      "metadata": {
        "colab": {
          "base_uri": "https://localhost:8080/",
          "height": 279
        },
        "id": "0NZXL9DN89lb",
        "outputId": "4ffdb699-b88c-4f28-8b7b-aa35ba2b4b44"
      },
      "execution_count": 35,
      "outputs": [
        {
          "output_type": "display_data",
          "data": {
            "text/plain": [
              "<Figure size 432x288 with 1 Axes>"
            ],
            "image/png": "[encoded data removed]"
          },
          "metadata": {
            "needs_background": "light"
          }
        }
      ]
    },
    {
      "cell_type": "markdown",
      "source": [
        "Como se puede observar en la grafica, el **Quick Sort** con sus pivotes al inicio y en la mediana resultan ser ligeramente mas eficientes que el **Merge Sort**, pero al colocar el pivote al final el **Quick Sort** resulta ser drasticamente mas ineficiente que el **Merge Sort**, esto no debiese ser asi.\n",
        "\n",
        "Al igual que en el experimento anterior, por algun motivo este tiene un crecimiento exponencial, se desconoce el motivo de este comportamiento."
      ],
      "metadata": {
        "id": "vHD6Esw57amr"
      }
    },
    {
      "cell_type": "markdown",
      "source": [
        "#6. Anexos\n",
        "\n",
        "##6.1. Códigos para las presentaciones graficas\n",
        "\n",
        "A continuación, puede ver el código del algoritmo **Merge Sort**, esta implementacion del **Merge Sort** es necesaria para hacer la gráfica mostrada en el punto 5.3."
      ],
      "metadata": {
        "id": "FBBd8PCz9Lfm"
      }
    },
    {
      "cell_type": "code",
      "source": [
        "import random\n",
        "from termcolor import colored\n",
        "import copy\n",
        "\n",
        "def Merge (A,B,cont,verbose):\n",
        "  n = len(A)\n",
        "  k = len(B)\n",
        "  C = random.sample(range(0,(n+k)+1),n+k)\n",
        "  indiceA = 0\n",
        "  indiceB = 0\n",
        "  indiceC = 0\n",
        "\n",
        "  while(indiceC != (n+k)):\n",
        "\n",
        "    if(verbose and indiceA != n and indiceB != k):\n",
        "      print(\"comparando\")\n",
        "      print(\"arreglo a: \", colored(f\"{str(A[indiceA:indiceA+1])[1:-1]}\",\"red\"),\",\",str(A[indiceA+1:])[1:-1], \" arreglo b: \",colored(f\"{str(B[indiceB:indiceB+1])[1:-1]}\",\"red\"),\",\",str(B[indiceB+1:])[1:-1])\n",
        "\n",
        "    if(indiceA == n):\n",
        "      C[indiceC] = B[indiceB]\n",
        "      indiceC += 1\n",
        "      indiceB += 1\n",
        "      cont += 1\n",
        "    elif(indiceB == k):\n",
        "      C[indiceC] = A[indiceA]\n",
        "      indiceC += 1\n",
        "      indiceA += 1\n",
        "      cont +=1\n",
        "    elif(A[indiceA] <= B[indiceB]):\n",
        "      if(verbose):\n",
        "        print(\"el numero menor es: \", str(A[indiceA]), \"asi que se guarda en C \\n\")\n",
        "      C[indiceC] = A[indiceA]\n",
        "      indiceC += 1\n",
        "      indiceA += 1\n",
        "      cont += 1\n",
        "    else:\n",
        "      if(verbose):\n",
        "        print(\"el numero menor es: \", (B[indiceB]), \"asi que se guarda en C \\n\")\n",
        "      C[indiceC] = B[indiceB]\n",
        "      indiceC += 1\n",
        "      indiceB += 1\n",
        "      cont += 1\n",
        "  \n",
        "  if(verbose):\n",
        "    print(\"estado actual del arreglo C\")\n",
        "    print(colored(f\"{str(C)[1:-1]}\",\"blue\"),\"\\n\")\n",
        "  \n",
        "  return C,cont\n",
        "\n",
        "def Merge_Sort (Arreglo,verbose = False):\n",
        "  n = len(Arreglo)\n",
        "  cont = 0\n",
        "  if(n == 1):\n",
        "    if(verbose):\n",
        "      print(\"tamaño actual: \", n)\n",
        "      print(\"se llego a un punto en que todos los sub-arreglos ahora son de tamaño 1 \\n\")\n",
        "    return Arreglo,cont\n",
        "  \n",
        "  n = int(n/2)\n",
        "  if(verbose):\n",
        "    print(\"tamaño actual: \", n)\n",
        "    print(\"como el tamaño de los sub-arreglos sigue siendo mayor a uno volvemos a dividirlos en dos \\n\")\n",
        "  subArreglo1,contA = Merge_Sort(Arreglo[:n],verbose)\n",
        "  subArreglo2,contB = Merge_Sort(Arreglo[n:],verbose)\n",
        "\n",
        "  cont = contA + contB\n",
        "  Arreglo,cont = Merge(subArreglo1,subArreglo2,cont,verbose)\n",
        "  return Arreglo,cont"
      ],
      "metadata": {
        "id": "HxwMVCnH9-Gl"
      },
      "execution_count": 5,
      "outputs": []
    }
  ]
}