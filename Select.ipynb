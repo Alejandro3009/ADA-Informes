{
  "nbformat": 4,
  "nbformat_minor": 0,
  "metadata": {
    "colab": {
      "provenance": [],
      "collapsed_sections": [],
      "authorship_tag": "ABX9TyMAPwdWqAp7NyHm+bWI9hjR",
      "include_colab_link": true
    },
    "kernelspec": {
      "name": "python3",
      "display_name": "Python 3"
    },
    "language_info": {
      "name": "python"
    }
  },
  "cells": [
    {
      "cell_type": "markdown",
      "metadata": {
        "id": "view-in-github",
        "colab_type": "text"
      },
      "source": [
        "<a href=\"https://colab.research.google.com/github/Alejandro3009/ADA-Informes/blob/main/Select.ipynb\" target=\"_parent\"><img src=\"https://colab.research.google.com/assets/colab-badge.svg\" alt=\"Open In Colab\"/></a>"
      ]
    },
    {
      "cell_type": "markdown",
      "source": [
        "#**Select Algorithm y problemas de búsqueda**\n",
        "\n",
        "#1. Descripción del problema\n",
        "\n",
        "El problema al que se va a enfrentar ahora es un problema de encontrar el I-esimo elemento más pequeño de una lista de elementos, o dicho de manera más formal encontrar un **estadístico de orden**.\n",
        "\n",
        "Por lo tanto, se tiene como entrada: un arreglo de tamaño $n$, el i-esimo elemento buscado.\n",
        "\n",
        "Y como salida se tiene: el valor del i-esimo elemento.\n",
        "\n",
        "los estadísticos de orden son una de las herramientas fundamentales de la estadística no paramétrica y de inferencia, y por ello encontrar estos estadísticos es uno de los problemas más comunes en la estadística.\n"
      ],
      "metadata": {
        "id": "HJ6-_hkqWUhx"
      }
    },
    {
      "cell_type": "markdown",
      "source": [
        "#2. Descripción del algoritmo\n",
        "\n",
        "El algoritmo **Select** es un algoritmo de búsqueda el cual utiliza la misma metodología que el **Quick Sort** para encontrar al elemento, está siendo la de seleccionar un pivote y de ahí partir el arreglo es dos partes, una va a ser todos los elementos menores al pivote y la otra todos los mayores.\n",
        "\n",
        "Aparte de esto el algoritmo **Select** es un algoritmo el cual es muy estable por la manera que utiliza para encontrar el pivote de la función **partition**\n",
        "\n",
        "a continuación, se explicarán cada una de las funciones implementadas en esta versión del algoritmo.\n"
      ],
      "metadata": {
        "id": "kYXsns5QZSF5"
      }
    },
    {
      "cell_type": "markdown",
      "source": [
        "###Mediana\n",
        "\n",
        "La función **mediana** es la función que encuentra un pivote dentro de una sección del arreglo, para ello esta función primero ordena esta sección del arreglo, para luego seleccionar el pivote según su mediana, la cual se encontrar en el elemento medio o en el menor elemento medio.\n",
        "\n",
        "###Ejemplo\n",
        "\n",
        "La progresión del algoritmo va estar marcado por este símbolo $->$; L será la longitud del arreglo y una apostrofe ($'$) denotará la selección de algún elemento.\n",
        "\n",
        "L = 5; arreglo: $[30,12,2,6,21]$\n",
        "\n",
        "$[30,12,2,6,21]$ $->$ $[2,6,12,21,30]$ $->$ $L//2 = 2.5 = 2$ $->$ $[2,6,12',21,30]$ $->$ la mediana del arreglo es 12.\n",
        "\n",
        "L = 2; arreglo: $[10,2]$\n",
        "\n",
        "$[10,2]$ $->$ $[2,10]$ $->$ $L/2 - 1 = 0$ $->$ $[2',10]$ $->$ la mediana del arreglo es 2.\n"
      ],
      "metadata": {
        "id": "fb_dF36hFwvs"
      }
    },
    {
      "cell_type": "code",
      "source": [
        "def mediana(A,cont):\n",
        "  A,parcial = insertcion_sort(A)\n",
        "  if len(A) % 2 == 1:\n",
        "    i = len(A)//2\n",
        "    return A[i],cont + parcial\n",
        "  else:\n",
        "    i = len(A)//2 - 1\n",
        "    return A[i],cont + parcial"
      ],
      "metadata": {
        "id": "LGMlsDjsWucG"
      },
      "execution_count": null,
      "outputs": []
    },
    {
      "cell_type": "markdown",
      "source": [
        "###Pivot select\n",
        "\n",
        "La función **pivot select** con la ayuda de la función **mediana** va seleccionar el pivote de la función **partition**, para lograr esto la función va a seguir los siguientes pasos:\n",
        "\n",
        "* recibir un arreglo el cual lo va a partir en sub-arreglos (de tamaño máximo 5)\n",
        "* estos sub-arreglos se le sacarán la mediana a través de la función **mediana** las cuales se colocarán en un nuevo arreglo\n",
        "* si este arreglo tiene más de 5 elementos se vuelve a repetir el proceso\n",
        "* si no se pasa por última vez el arreglo por la función **mediana** esto regresará el elemento el cual será el pivote para la función **partition**\n",
        "\n",
        "###Ejemplo\n",
        "\n",
        "La progresión del algoritmo va estar marcado por este símbolo $->$ y una apostrofe ($'$) denotara la selección de algún elemento.\n",
        "\n",
        "arreglo: $[30,12,2,6,21,7,10,15]$\n",
        "\n",
        "$[30,12,2,6,21,7,10,15]$ $->$ $[30,12,2,6,21]$ | $[7,10,15]$ $->$ se pasan los arreglos por la función **mediana** $->$ $[2,6,12',21,30]$ | $[7,10`,15]$ = $[12,10]$ $->$ se pasa el arreglo de medianas por la función **mediana** $->$ $[10`,12]$ $->$ el pivote va a ser 10\n"
      ],
      "metadata": {
        "id": "Ts-GE-c7J8ft"
      }
    },
    {
      "cell_type": "code",
      "source": [
        "def pivotSelect(A,verbose):\n",
        "  arr = []\n",
        "  aux = []\n",
        "  total = 0\n",
        "\n",
        "  if len(A) == 1:\n",
        "    return A[0],1\n",
        "\n",
        "  if(verbose):\n",
        "    print(\"primero se divide el arreglo en sub-arreglos de tamaño 5\")\n",
        "  for i in range(0,len(A)):\n",
        "    aux.append(A[i])\n",
        "    if len(aux) >= 5:\n",
        "      arr.append(aux)\n",
        "      aux = []\n",
        "      total += 1\n",
        "\n",
        "  if(len(aux) != 0):\n",
        "    arr.append(aux)\n",
        "    aux = []\n",
        "\n",
        "  if(verbose):\n",
        "    print(\"despues de este proceso nos queda el siguiente grupo de arreglos\")\n",
        "    print(arr,\"\\n\")\n",
        "    print(\"ahora a estos sub-arreglos le vamos a sacar las medianas\")\n",
        "  \n",
        "  for i in range(0,len(arr)):\n",
        "    k,total = mediana(arr[i],total)\n",
        "    aux.append(k)\n",
        "  \n",
        "  if(verbose):\n",
        "    print(\"despues de sacarles las medianas nos queda el siguiente arreglos con ellas\")\n",
        "    print(aux,\"\\n\")\n",
        "  \n",
        "  if len(aux) > 5:\n",
        "    if(verbose):\n",
        "      print(\"como hay mas de 5 elementos en el arreglo se vuelve a repetir el proceso\")\n",
        "    k,cont = pivotSelect(aux)\n",
        "    return k,total + cont\n",
        "  else:\n",
        "    if(verbose):\n",
        "      print(\"ya que hay menos de 5 elemntos en el arreglo se va a volver a sacar la mediana del arreglo,\")\n",
        "      print(\"y esta mediana va a ser el pivote que necesitamos\")\n",
        "    k,total = mediana(aux,total)\n",
        "    return k,total"
      ],
      "metadata": {
        "id": "Xwt5GAhXRb8m"
      },
      "execution_count": 103,
      "outputs": []
    },
    {
      "cell_type": "markdown",
      "source": [
        "###Partition\n",
        "\n",
        "La función **partition** con el pivote entregado por la función **pivot select** se van a dividir en secciones según el pivote, para ello se utiliza una **serie de índices** los cuales van a marcar los puntos de división dentro del arreglo, para lograr esto la función va a seguir los siguientes pasos:\n",
        "\n",
        "* la función compara un elemento del arreglo con el pivote\n",
        "* si este elemento es mayor al pivote, un índice i va a avanzar un lugar, esto significa que el elemento se encuentra dentro del conjunto i.\n",
        "* si este elemento es menor al pivote: \n",
        "1. el último elemento de i va a intercambiar posiciones con el elemento que se está comparando\n",
        "2. después de esto el índice i va avanzar un lugar y a su vez un índice j va a avanzar un lugar\n",
        "* este proceso se repite hasta que se analizan todos los elementos.\n",
        "\n",
        "Al final del proceso quedaran marcados por un par índices, donde empiezan y terminan las dos secciones del arreglo. Los elementos menores o iguales al pivote estarán en el rango $[0, j]$ y los elementos mayores al pivote estarán en el rango $[j+1, i]$\n",
        "\n",
        "###Ejemplo\n",
        "\n",
        "La progresión del algoritmo va estar marcado por este símbolo $->$; $j$ e $i$ estos serán índices que indicaran donde terminan la división de elementos menores al pivote y la división de elementos mayores al pivote; el cual se destacara con una apostrofe ($'$).\n",
        "\n",
        "arreglo: $[30,12,2,6,21]$\n",
        "\n",
        "$[30,12',2,6,21]$ $->$ $30 > 12$ $->$ $[30i,12',2,6,21]$ $->$ $2 < 12$ $->$ $[2,12',30i,6,21]$ $->$ $[2j,12',30i,6,21]$ $->$ $6 < 12$ $->$ $[2j,12',6,30i,21]$ $->$ $[2,12',6j,30i,21]$ $->$ $21 > 12$ $->$ $[2,12',6j,30,21i]$ $->$ $[2,6j,12',30,21i]$\n",
        "\n"
      ],
      "metadata": {
        "id": "RgtVEw4NgK1o"
      }
    },
    {
      "cell_type": "code",
      "execution_count": 101,
      "metadata": {
        "id": "9FEoeGR0WQN3"
      },
      "outputs": [],
      "source": [
        "def partition(A,posPivote,contador,Verbose):\n",
        "  piv = A[posPivote]\n",
        "  if(Verbose):\n",
        "    print(\"el arreglo que se va a ordenar: \",A,\"\\n\")\n",
        "  \n",
        "  longitud = len(A)\n",
        "  i = -1\n",
        "  j = 0\n",
        "  aux = 0\n",
        "\n",
        "  for j in range(0,longitud):\n",
        "    if(j == posPivote):\n",
        "      contador+=1\n",
        "      continue\n",
        "    elif(A[j] <= piv):\n",
        "      i += 1\n",
        "      if(i == posPivote):\n",
        "        contador+=1\n",
        "        i += 1\n",
        "      aux = A[i]\n",
        "      A[i] = A[j]\n",
        "      A[j] = aux\n",
        "      contador+=1\n",
        "\n",
        "  if(Verbose):\n",
        "    print(\"sub-arreglo de los elementos menores al pivote: \",A[0:i+1])\n",
        "    print(\"sub-arreglo de los elementos mayores al pivote: \",A[i+1:],\"\\n\")\n",
        "\n",
        "  if(posPivote <= i):\n",
        "    aux = A[i]\n",
        "    A[i] = A[posPivote]\n",
        "    A[posPivote] = aux\n",
        "    contador+=1\n",
        "    return A,i,contador\n",
        "  else:\n",
        "    aux = A[i+1]\n",
        "    A[i+1] = A[posPivote]\n",
        "    A[posPivote] = aux\n",
        "    contador+=1\n",
        "    return A,i+1,contador"
      ]
    },
    {
      "cell_type": "markdown",
      "source": [
        "### Selection\n",
        "\n",
        "la función **selection** es la función principal la cual busca el **I-esimo** de una lista, esto lo logra con la ayuda de las funciones **pivot select**, **mediana** y **partition** la última siendo la más importante para su funcionamiento.\n",
        "\n",
        "La función va a seleccionar un pivote utilizando **pivot select**, con el cual va a ordenar el arreglo utilizando **partition**, una vez ordenado el arreglo este evalúa si la posición del pivote dentro del arreglo es la **I-esima**, si lo es; se devuelve el valor del pivote, si no lo es; se vuelve a repetir el proceso hasta encontrar el **I-esimo** elemento.\n",
        "\n",
        "###Ejemplo\n",
        "\n",
        "La progresión del algoritmo va estar marcado por este símbolo $->$; el pivote será marcado con una apostrofe ($'$).\n",
        "\n",
        "Arreglo: $[3,7,8,1,4,6,9,2]$, i-esimo elemento = 6\n",
        "\n",
        "$[3,7,8,1,4,6,9,2]$ $->$ se selecciona el pivote $->$ $[3,7,8,1,4,6,9,2] piv = 4$ $->$ se llama al partition $->$ $[3,1,2,4`,7,8,6,9]$ $->$ 4 es el cuarto menor elemento así que repetimos el proceso y como nuestro elemento es menor al que buscamos trabajamos con el arreglo derecho.\n",
        "\n",
        "Arreglo: $[7,8,6,9]$, i-esimo elemento = 6, último elemento = 5\n",
        "\n",
        "$[7,8,6,9]$ $->$ se selecciona el pivote $->$ $[7,8,6,9] piv = 8$ $->$ se llama al partition $->$ $[6,7,8`,9]$ $->$ se suma cuantos elementos hay antes del pivote al último elemento $->$ el 8 es el séptimo menor elemento así que repetimos el proceso y como nuestro elemento es mayor al que buscamos trabajamos con el arreglo izquierdo.\n",
        "\n",
        "Arreglo: $[6,7]$, i-esimo elemento = 6, último elemento = 5\n",
        "\n",
        "$[6,7]$ $->$ se selecciona el pivote $->$ $[6,7] piv = 6$ $->$ se llama al partition $->$ $[6`,7]$ $->$ se suma cuantos elementos hay antes del pivote al último elemento $->$ 6 es el quinto menor elemento así que repetimos el proceso y como nuestro elemento es menor al que buscamos trabajamos con el arreglo derecho.\n",
        "\n",
        "Arreglo: $[7]$, i-esimo elemento = 6, último elemento = 6\n",
        "\n",
        "como solo nos queda el 7 como elemento en el arreglo, sabemos que el 7 es el sexto menor elemento del arreglo, como llegamos a la respuesta la función va a regresar el número 7.\n"
      ],
      "metadata": {
        "id": "f232jDxvgLfj"
      }
    },
    {
      "cell_type": "code",
      "source": [
        "def selection (A,iEsimo,posPivote,verbose = False):\n",
        "  if len(A) == 1:\n",
        "    return A[0],1\n",
        "  \n",
        "  if(verbose):\n",
        "    print(\"primero buscaremos la mediana del arreglo la cual sera el pivote que utilizaremos para arreglar el arreglo \\n\")\n",
        "  piv,cont = pivotSelect(A,verbose)\n",
        "\n",
        "  if(verbose):\n",
        "    print(\"una vez encontrado el elemento medio \",piv)\n",
        "  for i in range(0,len(A)):\n",
        "    if A[i] == piv:\n",
        "      break\n",
        "  if(verbose):\n",
        "    print(\"el cual se encuentra en la posicion\",i,\"del arreglo \\n\")\n",
        "    print(\"con esto ahora ordenaremos el arreglo segun el pivote\")\n",
        "\n",
        "  A,piv,cont = partition(A,i,cont,verbose)\n",
        "  posPivote = posPivote + piv+1\n",
        "\n",
        "  if(verbose):\n",
        "    print(\"una vez ordenado el arreglo tendremos que\",A)\n",
        "    print(\"nuestro pivote se encuentra en la posicion\",piv,\"del arreglo\")\n",
        "    print(\"en esta posicion el elemento del pivote seria el\",posPivote)\n",
        "\n",
        "  if posPivote == iEsimo:\n",
        "    if(verbose):\n",
        "      print(\"y como en esta poscion el elemento es el i-esimo sera este el cual regresaremos\")\n",
        "    return A[piv],cont\n",
        "  elif posPivote > iEsimo:\n",
        "    if(verbose):\n",
        "      print(\"y como en esta poscion el elemento es mayor al iEsimo se repira el procede a repetir el proceso con el la parte izquierda del arreglo \\n\")\n",
        "    piv,total = selection(A[0:piv],iEsimo,0,verbose)\n",
        "    return piv,(total + cont)\n",
        "  else:\n",
        "    if(verbose):\n",
        "      print(\"y como en esta poscion el elemento es menor al iEsimo se repira el procede a repetir el proceso con el la parte derecha del arreglo \\n\")\n",
        "    piv,total = selection(A[piv+1:len(A)],iEsimo,piv+1,verbose)\n",
        "    return piv,(total + cont)\n",
        "\n",
        "#ejemplo\n",
        "A = [3,7,8,1,5,6,9,4]\n",
        "print(\"entrada: \", A)\n",
        "valor,cont = selection(A,6,0)\n",
        "print(\"salida: \", valor)\n",
        "print(\"numero de comparaciones: \", cont)"
      ],
      "metadata": {
        "colab": {
          "base_uri": "https://localhost:8080/"
        },
        "id": "f2BqSWkEhKmg",
        "outputId": "d224339c-91fa-40b5-cca4-e7279e5936b0"
      },
      "execution_count": 104,
      "outputs": [
        {
          "output_type": "stream",
          "name": "stdout",
          "text": [
            "entrada:  [3, 7, 8, 1, 5, 6, 9, 4]\n",
            "salida:  7\n",
            "numero de comparaciones:  26\n"
          ]
        }
      ]
    },
    {
      "cell_type": "markdown",
      "source": [
        "##2.4. Ejecución del algoritmo paso a paso (verbose=True)\n",
        "\n",
        "A continuación, hay otra ejecución del código esta vez mostrando el paso a paso de este, esta opción se habilita cuando $verbose = True$."
      ],
      "metadata": {
        "id": "y-OMfH1dERvf"
      }
    },
    {
      "cell_type": "code",
      "source": [
        "A = random.sample(range(1, 20), 8)\n",
        "i_esimo = random.randint(1,8)\n",
        "print(\"el arreglo de entrada: \",A,\"  el i-esimo elemento buscado es: \",i_esimo,\"\\n\")\n",
        "valor,cont = selection(A,i_esimo,0,True)\n",
        "print(\"salida: \", valor)\n",
        "print(\"numero de comparaciones: \", cont)"
      ],
      "metadata": {
        "colab": {
          "base_uri": "https://localhost:8080/"
        },
        "id": "gQBTm5dEEchx",
        "outputId": "30c21eb2-7ea3-4b45-ed5a-1c05ff74f2ba"
      },
      "execution_count": 105,
      "outputs": [
        {
          "output_type": "stream",
          "name": "stdout",
          "text": [
            "el arreglo de entrada:  [17, 1, 6, 11, 19, 8, 7, 4]   el i-esimo elemento buscado es:  5 \n",
            "\n",
            "primero buscaremos la mediana del arreglo la cual sera el pivote que utilizaremos para arreglar el arreglo \n",
            "\n",
            "primero se divide el arreglo en sub-arreglos de tamaño 5\n",
            "despues de este proceso nos queda el siguiente grupo de arreglos\n",
            "[[17, 1, 6, 11, 19], [8, 7, 4]] \n",
            "\n",
            "ahora a estos sub-arreglos le vamos a sacar las medianas\n",
            "despues de sacarles las medianas nos queda el siguiente arreglos con ellas\n",
            "[11, 7] \n",
            "\n",
            "ya que hay menos de 5 elemntos en el arreglo se va a volver a sacar la mediana del arreglo,\n",
            "y esta mediana va a ser el pivote que necesitamos\n",
            "una vez encontrado el elemento medio  7\n",
            "el cual se encuentra en la posicion 6 del arreglo \n",
            "\n",
            "con esto ahora ordenaremos el arreglo segun el pivote\n",
            "el arreglo que se va a ordenar:  [17, 1, 6, 11, 19, 8, 7, 4] \n",
            "\n",
            "sub-arreglo de los elementos menores al pivote:  [1, 6, 4]\n",
            "sub-arreglo de los elementos mayores al pivote:  [11, 19, 8, 7, 17] \n",
            "\n",
            "una vez ordenado el arreglo tendremos que [1, 6, 4, 7, 19, 8, 11, 17]\n",
            "nuestro pivote se encuentra en la posicion 3 del arreglo\n",
            "en esta posicion el elemento del pivote seria el 4\n",
            "y como en esta poscion el elemento es menor al iEsimo se repira el procede a repetir el proceso con el la parte derecha del arreglo \n",
            "\n",
            "primero buscaremos la mediana del arreglo la cual sera el pivote que utilizaremos para arreglar el arreglo \n",
            "\n",
            "primero se divide el arreglo en sub-arreglos de tamaño 5\n",
            "despues de este proceso nos queda el siguiente grupo de arreglos\n",
            "[[19, 8, 11, 17]] \n",
            "\n",
            "ahora a estos sub-arreglos le vamos a sacar las medianas\n",
            "despues de sacarles las medianas nos queda el siguiente arreglos con ellas\n",
            "[11] \n",
            "\n",
            "ya que hay menos de 5 elemntos en el arreglo se va a volver a sacar la mediana del arreglo,\n",
            "y esta mediana va a ser el pivote que necesitamos\n",
            "una vez encontrado el elemento medio  11\n",
            "el cual se encuentra en la posicion 2 del arreglo \n",
            "\n",
            "con esto ahora ordenaremos el arreglo segun el pivote\n",
            "el arreglo que se va a ordenar:  [19, 8, 11, 17] \n",
            "\n",
            "sub-arreglo de los elementos menores al pivote:  [8]\n",
            "sub-arreglo de los elementos mayores al pivote:  [19, 11, 17] \n",
            "\n",
            "una vez ordenado el arreglo tendremos que [8, 11, 19, 17]\n",
            "nuestro pivote se encuentra en la posicion 1 del arreglo\n",
            "en esta posicion el elemento del pivote seria el 6\n",
            "y como en esta poscion el elemento es mayor al iEsimo se repira el procede a repetir el proceso con el la parte izquierda del arreglo \n",
            "\n",
            "salida:  8\n",
            "numero de comparaciones:  25\n"
          ]
        }
      ]
    },
    {
      "cell_type": "markdown",
      "source": [
        "#3. Tiempo de Ejecución\n",
        "\n",
        "Para calcular el tiempo de ejecución se deben tener en cuenta el tiempo de ejecución de cada función, el pivot Select nos da $T(n) = n/5$ debido a que divide en sub-arreglos. El $insertion sort$ en caso promedio tiene complejidad de $O(n^2)$, pero como es un tamaño constante en este caso podría tomarse como $O(1)$. La función partition debiese ser un $O(n)$ puesto que recorre hasta n-1 comparando los datos. Y por último la función $Pivot Select$ como divide y calcula la mediana de los datos que es mayor a $3n/10 +6$, por lo que es una complejidad de O(n).\n",
        "\n",
        "Como podemos ver, gracias al método de mediana de medianas (pivot select) la complejidad del algoritmo es $O(n)$, este método surgió de la idea de reducir el tiempo de ejecución que tenía el algoritmo que solamente utilizaba el partition, el cual tenía una complejidad de $O(nlogn)$.\n"
      ],
      "metadata": {
        "id": "xYJHNRl2XBVe"
      }
    },
    {
      "cell_type": "markdown",
      "source": [
        "# 4. Correctitud de Select\n",
        "\n",
        "Nuestra hipótesis P(n) es que la función *Select* recibe un arreglo y un índice *k* que corresponde al estadístico de orden k°, y retorna el valor del estadístico.\n",
        "\n",
        "En el caso base, cuando *n = 1*, el estadístico de orden es el único elemento contenido en el arreglo. Por lo tanto, se cumple la hipótesis.\n",
        "\n",
        "Para el paso inductivo, probaremos P(m). Si *n > 1*, entonces se busca un pivote óptimo y se divide el arreglo con Partition. Luego de la división, si la posición del pivote es diferente de *k*, se llama recursivamente Select utilizando una de las dos mitades. El nuevo largo del arreglo es, en el peor caso, *7n/10*. Como *m < n*, el largo va a converger en 1 eventualmente si no se cumple que *pivote = k* antes. Por lo tanto, el algoritmo es correcto.\n"
      ],
      "metadata": {
        "id": "AZYilR0jgMLG"
      }
    },
    {
      "cell_type": "markdown",
      "source": [
        "#5. Experimentos\n",
        "\n",
        "Ahora realizaremos un numero de experimentos que nos ayudaran a visualizar la eficacia del **select** en ciertos aspectos.\n",
        "\n",
        "##5.1. Numero de comparaciones\n",
        "\n",
        "En este experimento se comprobará el número de comparaciones que el algoritmo **select** necesita realizar para poder encontrar el I=esimo elemento de una lista.\n",
        "\n",
        "Para ello se hizo una gráfica en la que se muestra.\n",
        "\n",
        "* La cantidad de comparaciones del peor caso calculadas matemáticamente,\n",
        "* La cantidad de comparaciones del mejor caso calculadas matemáticamente\n",
        "* La cantidad de comparaciones realizadas experimentalmente para entradas aleatorias\n",
        "\n",
        "para un problema que tiene un tamaño $n \\in [5,100]$\n"
      ],
      "metadata": {
        "id": "jsclYf3tWwUd"
      }
    },
    {
      "cell_type": "code",
      "source": [
        "import matplotlib.pyplot as plt\n",
        "import random\n",
        "\n",
        "x=[n for n in range(5,101)] \n",
        "y1=[6*n for n in range(5,101)] # worst case\n",
        "y2=[2*n for n in range(5,101)] # best case\n",
        "y=[]; \n",
        "\n",
        "for n in range(5,101):\n",
        "  a = random.sample(range(1, 200), n)\n",
        "  i_esimo = random.randint(1,n+1)\n",
        "  a,counter = selection(a,i_esimo,0)\n",
        "  y.append(counter)\n",
        "\n",
        "plt.plot(x,y)\n",
        "plt.plot(x,y1)\n",
        "plt.plot(x,y2)\n",
        "plt.legend([\"Selection Algorithim\", \"theoretical worst case\", \"theoretical best case\"])\n",
        "\n",
        "plt.xlabel('n')\n",
        "plt.ylabel('number of operations')\n",
        "plt.show()"
      ],
      "metadata": {
        "id": "q7iNEebu_Q3p",
        "colab": {
          "base_uri": "https://localhost:8080/",
          "height": 279
        },
        "outputId": "a1d0d092-ca42-4a36-91ae-79685042b02f"
      },
      "execution_count": 75,
      "outputs": [
        {
          "output_type": "display_data",
          "data": {
            "text/plain": [
              "<Figure size 432x288 with 1 Axes>"
            ],
            "image/png": "[encoded data removed]"
          },
          "metadata": {
            "needs_background": "light"
          }
        }
      ]
    },
    {
      "cell_type": "markdown",
      "source": [
        "###Análisis\n",
        "\n",
        "Como se puede apreciar en la gráfica, la función se encuentra dentro del rango esperado, algo que se puede resaltar es lo errático de los resultados, teniendo muchos valles y picos a lo largo de la ejecución, esto puede ser debido a la implementación de la función.\n"
      ],
      "metadata": {
        "id": "H0IBciYtJCyA"
      }
    },
    {
      "cell_type": "markdown",
      "source": [
        "##5.2. Comparación entre algoritmos\n",
        "\n",
        "En este experimento se compararán dos algoritmos de búsqueda el **Select** y el **Randomized select**, en específico se comparará el número de comparaciones que realizan ambos algoritmos.\n",
        "\n",
        "Como el nombre sugiere el **Randomized select** funciona de la misma manera que el select, pero en este caso el pivote no estará dado por la mediana, si no que será un pivote aleatorio en el arreglo.\n",
        "\n",
        "Para ello se hizo una gráfica en la que se muestra.\n",
        "\n",
        "* La cantidad de comparaciones que el **Select** realiza (la gráfica azul)\n",
        "* La cantidad de comparaciones que el **Randomized select** realiza (la gráfica naranja)\n",
        "\n",
        "para un problema que tiene un tamaño $n \\in [5,100]$\n"
      ],
      "metadata": {
        "id": "URQfW0UUZxMu"
      }
    },
    {
      "cell_type": "code",
      "source": [
        "import matplotlib.pyplot as plt\n",
        "\n",
        "x=[n for n in range(5,101)] \n",
        "y1=[]; y2=[]\n",
        "\n",
        "for n in range(5,101):\n",
        "  a = random.sample(range(1, 200), n)\n",
        "  i_esimo = random.randint(1,n+1)\n",
        "\n",
        "  b,counter = selection(a,i_esimo,0)\n",
        "  y1.append(counter)\n",
        "\n",
        "  b,counter = R_select(a,i_esimo,0)\n",
        "  y2.append(counter)\n",
        "\n",
        "plt.plot(x,y1)\n",
        "plt.plot(x,y2)\n",
        "plt.legend([\"Select algorithim\",\"Randomized select algorithim\"])\n",
        "\n",
        "plt.xlabel('n')\n",
        "plt.ylabel('number of operations')\n",
        "plt.show()"
      ],
      "metadata": {
        "id": "aI2Qqpl5Zv4B",
        "colab": {
          "base_uri": "https://localhost:8080/",
          "height": 279
        },
        "outputId": "ef003585-4901-4f5e-937c-43f6db8b8c9a"
      },
      "execution_count": 91,
      "outputs": [
        {
          "output_type": "display_data",
          "data": {
            "text/plain": [
              "<Figure size 432x288 with 1 Axes>"
            ],
            "image/png": "[encoded data removed]"
          },
          "metadata": {
            "needs_background": "light"
          }
        }
      ]
    },
    {
      "cell_type": "markdown",
      "source": [
        "###Análisis\n",
        "\n",
        "Como se puede observar en la gráfica, el **select** es menos eficiente que el **R select** (randomized select), esto es de esperarse, ya que a diferencia del **R select** que selecciona aleatoriamente su pivote. El **select** hace un análisis para seleccionar un pivote que se encuentre en **la mediana del arreglo**, esto hace que el algoritmo necesite realizar más comparaciones entre sus elementos para encontrar al pivote.\n"
      ],
      "metadata": {
        "id": "fqNi_2jCJv1m"
      }
    },
    {
      "cell_type": "markdown",
      "source": [
        "##5.3. Tiempo de ejecución experimental\n",
        "\n",
        "En el siguiente experimento se vera cual es el tiempo de ejecucion del algoritmo **select**.\n",
        "\n",
        "También se estara comparando a este algoritmo con el algoritmo **randomized select**."
      ],
      "metadata": {
        "id": "nLwiMM2YN9iz"
      }
    },
    {
      "cell_type": "code",
      "source": [
        "import matplotlib.pyplot as plt\n",
        "import datetime\n",
        "from timeit import repeat\n",
        "import random\n",
        "\n",
        "x=[]; y=[]\n",
        "x1=[]; y1=[]\n",
        "\n",
        "for n in range(5,500):\n",
        "\n",
        "  a = random.sample(range(1, 1000), n)\n",
        "  i_esimo = random.randint(1,n+1)\n",
        "\n",
        "  #la función repeat está ejecutando 20 veces cada algoritmo con el arreglo a y retorna el mejor tiepo obtenido para cada uno.\n",
        "  t = repeat(setup=\"from __main__ import selection\", stmt=f\"selection({a},{i_esimo},{0})\", repeat=1, number=10)\n",
        "\n",
        "  x.append(n)\n",
        "  y.append(t)\n",
        "\n",
        "  t = repeat(setup=\"from __main__ import R_select\", stmt=f\"R_select({a},{i_esimo},{0})\", repeat=1, number=10)\n",
        "\n",
        "  x1.append(n)\n",
        "  y1.append(t)\n",
        "\n",
        "plt.plot(x,y)\n",
        "plt.plot(x1,y1)\n",
        "plt.legend([\"Select\", \"R-Select\"])\n",
        "\n",
        "plt.xlabel('n')\n",
        "plt.ylabel('time in ms')\n",
        "plt.show()"
      ],
      "metadata": {
        "colab": {
          "base_uri": "https://localhost:8080/",
          "height": 279
        },
        "id": "IO3AQljVCxzT",
        "outputId": "c6a68948-c40e-45e2-b0d4-e885ead96730"
      },
      "execution_count": 94,
      "outputs": [
        {
          "output_type": "display_data",
          "data": {
            "text/plain": [
              "<Figure size 432x288 with 1 Axes>"
            ],
            "image/png": "[encoded data removed]"
          },
          "metadata": {
            "needs_background": "light"
          }
        }
      ]
    },
    {
      "cell_type": "markdown",
      "source": [
        "###Análisis\n",
        "\n",
        "Como se puede observar en la gráfica, el **select** es menos eficiente que el **R select**, esto a pesar de que pueda ocurrir no se debería ver como en la gráfica, ya que el algoritmo **select** selecciona su pivote de manera más inteligente, esto debería a ayudar a encontrar al i-esimo elemento de manera más rápida cuando los arreglos tienen tamaños pequeños.\n",
        "\n",
        "Pero a medida que aumentamos el tamaño del arreglo el proceso de encontrar la mediana, este proceso empieza a ralentizar al algoritmo, para tal punto el **R select** se vuelve más eficiente por el hecho de no hacer ese proceso\n"
      ],
      "metadata": {
        "id": "ZtsDFhECOnbk"
      }
    },
    {
      "cell_type": "markdown",
      "source": [
        "#6. Anexos\n",
        "\n",
        "##6.1. codigo del algoritmo insertcion sort"
      ],
      "metadata": {
        "id": "DADMijacnust"
      }
    },
    {
      "cell_type": "code",
      "source": [
        "def insertcion_sort(a,verbose = False):\n",
        "  n = len(a) ##longitud del arreglo\n",
        "  aux = 0 ##dato que auxilia al intercambio de datos\n",
        "  c = 0 ##contador de comparaciones\n",
        "  \n",
        "  if(verbose):print(\"arreglo de entrada: \",a)\n",
        "\n",
        "  for i in range(0,n): ##ciclo principal que se mueve a travez del arreglo\n",
        "    k = i\n",
        "    if(verbose):print(\"analisis de datos N°\",i)\n",
        "    while k > 0: ##ciclo que empieza a hacer las comparaciones\n",
        "      if(verbose and k-1 != 0):\n",
        "          print(str(a[:k-1])[1:-1],\",\",colored(f\"{str(a[k-1:k+1])[1:-1]}\",\"red\"),\",\",str(a[k+1:])[1:-1],\"\\n\")\n",
        "      elif(verbose and k-1 == 0):\n",
        "        print(colored(f\"{str(a[k-1:k+1])[1:-1]}\",\"red\"),\",\",str(a[k+1:])[1:-1],\"\\n\")\n",
        "        \n",
        "      if(a[k] < a[k-1]):\n",
        "        aux = a[k-1]\n",
        "        a[k-1] = a[k]\n",
        "        a[k] = aux\n",
        "        c = c + 1\n",
        "        k = k - 1\n",
        "        if(verbose and k != 0):\n",
        "          print(str(a[:k])[1:-1],\",\",colored(f\"{str(a[k:k+2])[1:-1]}\",\"green\"),\",\",str(a[k+2:])[1:-1],\"\\n\")\n",
        "        elif(verbose and k == 0):\n",
        "          print(colored(f\"{str(a[k:k+2])[1:-1]}\",\"green\"),\",\",str(a[k+2:])[1:-1],\"\\n\")\n",
        "      else: \n",
        "        c = c + 1\n",
        "        break\n",
        "    \n",
        "    if(verbose):\n",
        "      print(\"lo revisado esta ordenado\")\n",
        "      print(colored(f\"{str(a[:i+1])[1:-1]}\",\"blue\"),\",\",str(a[i+1:])[1:-1],\"\\n\")\n",
        "    if(i == n and verbose):\n",
        "      print(\"ya esta completamente ordenado\")\n",
        "    \n",
        "  return a,c"
      ],
      "metadata": {
        "id": "q3wlUDquniBI"
      },
      "execution_count": null,
      "outputs": []
    },
    {
      "cell_type": "markdown",
      "source": [
        "##6.2. Codigo randomized select\n"
      ],
      "metadata": {
        "id": "CpJR0SoogrHq"
      }
    },
    {
      "cell_type": "code",
      "source": [
        "def R_select (A,iEsimo,posPivote,verbose = False):\n",
        "  if len(A) <= 1:\n",
        "    return 0,1\n",
        "\n",
        "  piv = random.randint(0,len(A)-1)\n",
        "  \n",
        "  A,piv,cont = partition(A,piv,0,verbose)\n",
        "  posPivote = posPivote + piv+1\n",
        "\n",
        "  if posPivote == iEsimo:\n",
        "    return A[piv],cont\n",
        "  elif posPivote > iEsimo:\n",
        "    piv,total = R_select(A[0:piv],iEsimo,0,verbose)\n",
        "    return piv,(total + cont)\n",
        "  else:\n",
        "    piv,total = R_select(A[piv+1:len(A)],iEsimo,piv+1,verbose)\n",
        "    return piv,(total + cont)"
      ],
      "metadata": {
        "id": "UqBAeAxig4WV"
      },
      "execution_count": 90,
      "outputs": []
    }
  ]
}