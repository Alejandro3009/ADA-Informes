{
  "cells": [
    {
      "cell_type": "markdown",
      "metadata": {
        "id": "view-in-github",
        "colab_type": "text"
      },
      "source": [
        "<a href=\"https://colab.research.google.com/github/Alejandro3009/ADA-Informes/blob/main/Sub_arreglo_maximo.ipynb\" target=\"_parent\"><img src=\"https://colab.research.google.com/assets/colab-badge.svg\" alt=\"Open In Colab\"/></a>"
      ]
    },
    {
      "cell_type": "markdown",
      "source": [
        "#***Max sub-array***\n",
        "\n",
        "#1. Descripción del problema\n",
        "\n",
        "El problema propuesto es el siguiente, se entrega un arreglo de tamaño $n$ el cual contiene una serie de números, con estos datos podemos partir este arreglo y encontrar dentro de un sub-arreglo el cual contenga la mayor suma de estos datos entre sí.\n",
        "\n",
        "* Entrada: un arreglo de tamaño $n$ con una secuencia de números $[a_1,a_2,a_3,...,a_n]$.\n",
        "\n",
        "* Salida: un par de índices los cuales sean estén posicionados dentro del arreglo original para así recrear nuestro sub-arreglo, la suma de todos los valores dentro del sub-arreglo.\n",
        "\n",
        "este problema es bastante diferente a los que hemos visto anteriormente, ya que en este hace falta hacer el mismo análisis que al arreglo original $(A)$ solamente que a las dos particiones creadas $(B,C)$, encontrar los índices de los máximos sub-arreglo de $B$ y $C$, para luego devolver estos índices para encontrar el sub-arreglo máximo de $A$.\n",
        "\n",
        "Y este este tipo de problema podría ser visto a la hora de querer ver irregularidades en planas de energía o médicas, ya que en estas se puede saber que tanto voltaje en promedio pasa por un circuito o que tantas pulsaciones por segundo realiza el corazón, y cualquier aumento o caída en estos valores serian registradas.\n"
      ],
      "metadata": {
        "id": "yy4sKq80hBqX"
      }
    },
    {
      "cell_type": "markdown",
      "source": [
        "#2. Descripción del algoritmo\n",
        "\n",
        "El algoritmo que estaremos utilizando para resolver este problema es uno que usa el paradigma de divide y vencerás.\n",
        "\n",
        "*  ***Divide y vencerás*:** la idea del paradigma reside en la idea de que al reducir el tamaño del problema este se vuelve más fácil de resolver, para luego volver en nuestros pasos hasta llegar al problema original.\n",
        "\n",
        "este algoritmo como bien dice el paradigma va a reducir el tamaño del arreglo original (en este caso se dividirá en dos), estos sub-arreglos serán resueltos y a partir de estas soluciones encontraremos la solución al problema original.\n"
      ],
      "metadata": {
        "id": "aMUyIjm6kOWQ"
      }
    },
    {
      "cell_type": "code",
      "execution_count": null,
      "metadata": {
        "colab": {
          "base_uri": "https://localhost:8080/"
        },
        "id": "Mn3uw1MTu1Tk",
        "outputId": "8973dca4-df0e-4ddb-d2d6-3fefd9ab214d"
      },
      "outputs": [
        {
          "output_type": "stream",
          "name": "stdout",
          "text": [
            "Indice menor:  1\n",
            "Indice mayor:  2\n",
            "Suma de subarreglo:  9\n"
          ]
        }
      ],
      "source": [
        "import random\n",
        "import copy\n",
        "\n",
        "def subArregloMaximo (A,verbose):\n",
        "  if(verbose):\n",
        "    print(\"se llama a la funcion maxMitad con un arreglo que va desde la posicion \",0,\" hasta la \",len(A)//2)\n",
        "    print(\"o dicho de otra forma el lado izquierdo del arreglo original\")\n",
        "    minB,maxB,sumaB = maxMitad(A[0:len(A)//2],verbose) ##obtener el mayor sub-arreglo izquierdo\n",
        "    print(\"se llama a la funcion maxMitad con un arreglo que va desde la posicion \",len(A)//2,\" hasta la \",len(A))\n",
        "    print(\"o dicho de otra forma el lado derecho del arreglo original\")\n",
        "    minC,maxC,sumaC = maxMitad(A[len(A)//2:len(A)],verbose) ##obtener el mayor sub-arreglo derecho\n",
        "  else:  \n",
        "    minB,maxB,sumaB = maxMitad(A[0:len(A)//2],verbose) ##obtener el mayor sub-arreglo izquierdo\n",
        "    minC,maxC,sumaC = maxMitad(A[len(A)//2:len(A)],verbose) ##obtener el mayor sub-arreglo derecho\n",
        "\n",
        "  if(verbose):\n",
        "    print(\"ahora que tenemos ambos sub-arreglos y se indices toma el indice mas bajo y el indice mas alto\")\n",
        "    print(\"y se busca el mayor sub-arreglo entre ellos \\n\")\n",
        "  \n",
        "  minA,maxA,sumaA = maxMitad(A[maxB:(minC+(len(A)//2))],verbose)\n",
        "\n",
        "  if(verbose):\n",
        "    print(\"ahora comparamos a los sub-arreglos para encontrar el mayor entre ellos\")\n",
        "  if(sumaA > sumaB and sumaA > sumaC):\n",
        "    return minA,maxA+len(A)//2,sumaA\n",
        "  elif(sumaB > sumaC):\n",
        "    return minB,maxB,sumaB\n",
        "  return minC,maxC,sumaC\n",
        "\n",
        "\n",
        "\n",
        "def maxMitad(A,verbose):\n",
        "  indice_Menor = 0 ##variable que guarda el indice del sub-arreglo con la mayor diferencia\n",
        "  indice_Mayor = 0 ##variable que guarda el indice del sub-arreglo con la mayor diferencia\n",
        "  indiceA = 0\n",
        "  indiceB = 0\n",
        "  min = 0\n",
        "  max = 0\n",
        "  suma = 0 ## va sumando los valores del arreglos en cada iteracion\n",
        "  anterior = 0 ## guarda el valor de la iteracion anterior\n",
        "  diferencia = 0 ## en esta variable se guarda la suma mas grande que haya hasta el momento\n",
        "\n",
        "  for i in range(0,len(A)):\n",
        "    suma = suma + A[i]\n",
        "\n",
        "    if(anterior < suma and anterior != 0 and min == 0):\n",
        "      if(verbose):\n",
        "        print(\"el punto mas bajo de un nuevo sub-arreglo \",anterior)\n",
        "      min = anterior\n",
        "      indiceA = i - 1\n",
        "\n",
        "    elif(anterior > suma and min != 0):\n",
        "      if(verbose):\n",
        "        print(\"el punto mas alto de un nuevo sub-arreglo \",anterior,\"\\n\")\n",
        "      max = anterior\n",
        "      indiceB = i - 1\n",
        "    \n",
        "    if(min != 0 and max != 0):\n",
        "      min = abs(min) - abs(max)\n",
        "\n",
        "      min = abs(min)\n",
        "\n",
        "      if(verbose):\n",
        "        print(\"ahora comparemos el nuevo sub-arreglo con el que hemos encontrado anteriormente para ver quien es mayor\")\n",
        "        print(\"amplitud de sub-arreglo nuevo: \",min)\n",
        "        print(\"amplitud del maximo encontrado hasta el momento: \",diferencia,\"\\n\")\n",
        "      if(diferencia < min):\n",
        "        if(verbose):\n",
        "          print(\"el nuevo sub-arreglo es mayor asi que lo guardaremos como el mayor y reiniciaremos las variables \\n\")\n",
        "        diferencia = min\n",
        "\n",
        "        indice_Menor = indiceA\n",
        "        indice_Mayor = indiceB\n",
        "\n",
        "        min = 0\n",
        "        max = 0\n",
        "        anterior = 0\n",
        "        suma = 0\n",
        "      elif(diferencia > min):\n",
        "        if(verbose):\n",
        "          print(\"el sub-arreglo que se encontro anteriormente es mayor asi que seguimos buscando por un sub-arreglo que sea mayor a este \\n\")\n",
        "        \n",
        "        min = 0\n",
        "        max = 0\n",
        "        anterior = 0\n",
        "        suma = 0\n",
        "\n",
        "    anterior = suma\n",
        "  if(verbose):\n",
        "    print(\"se encontro el maximo sub-arreglo \\n\")\n",
        "    print(\"Indice menor: \", indice_Menor)\n",
        "    print(\"Indice mayor: \", j)\n",
        "    print(\"Suma de subarreglo: \", diferencia)\n",
        "  return indice_Menor, indice_Mayor, diferencia\n",
        "\n",
        "array = random.sample(range(-20,20),14)\n",
        "print(\"algoritmo de entrada: \\n\",array)\n",
        "i, j, suma = subArregloMaximo(array,False) # En el grafico de la guia low era el inicio del arreglo y high el final\n",
        "print(\"Indice menor: \", i)\n",
        "print(\"Indice mayor: \", j)\n",
        "print(\"Suma de subarreglo: \", suma)"
      ]
    },
    {
      "cell_type": "markdown",
      "source": [
        "Entonces para recapitular lo voy a detallar el paso a paso de cada función:\n",
        "\n",
        "###2.1.1. Función subArregloMaximo\n",
        "\n",
        "1. la función recibe un arreglo de tamaño n junto a su índice inicial, medio y final.\n",
        "\n",
        "2. esta va a hacer dos llamadas de la función **maxMitad** acá una dándole una mitad del arreglo (primera llamada $A[inicio, mitad]$, segunda llamada $A[mitad, final]$).\n",
        "\n",
        "3. una vez la función **maxMitad** le devuelva los dos índices de los sub-arreglos de ambas mitades, este va a calcular el sub-arreglo medio entre estos dos.\n",
        "\n",
        "4. la función luego va analizar cual sub-arreglo es mayor y lo retornara junto con su valor e índices.\n",
        "\n",
        "###2.1.2. Función maxMitad\n",
        "\n",
        "1. la función al ser llamada por **subArregloMaximo** y esta va a recibir la partición del arreglo y su tamaño máximo.\n",
        "\n",
        "2. luego este va a empezar a sumar los valores dentro del sub-arreglo hasta encontrar un punto (o índice) en el que estos empiecen a crecer.\n",
        "\n",
        "3. al encontrar este punto ahora el algoritmo empezara a buscar el punto (o índice) en que dejen de crecer, una vez se encuentra ese punto, ya tenemos los puntos (o índices) ahora tenemos un sub-arreglo candidato a ser el que tenga la mayor suma dentro de nuestra partición.\n",
        "\n",
        "4. ahora lo que se hace es encontrar la diferencia que existe entre el punto más bajo y el punto más alto del sub-arreglo.\n",
        "\n",
        "5. esta diferencia entre los puntos del sub-arreglo la vamos a comparar con la diferencia del sub-arreglo más grande encontrado hasta el momento.\n",
        "\n",
        "6. si la diferencia anterior es mayor a la actual, el sub-arreglo anterior sigue siendo el más grande hasta el momento por lo tanto lo dejamos guardado.\n",
        "\n",
        "7. si la diferencia anterior es menor a la actual, el sub-arreglo encontrado es mayor al que se tenía guardado previamente, por lo tanto, se guarda los índices \n",
        "y la diferencia del nuevo sub-arreglo el cual es más grande encontrado hasta el momento.\n",
        "\n",
        "8. se repite el proceso desde el $paso 2$ y una vez recorrida toda la partición se devuelven los índices y la diferencia que existe entre ambos a la función **subArregloMaximo**.\n"
      ],
      "metadata": {
        "id": "kcQqGGUnyBBA"
      }
    },
    {
      "cell_type": "markdown",
      "source": [
        "##2.2. Ejecución paso a paso\n",
        "\n",
        "a continuación, se ejecutará el algoritmo viendo el paso a paso de este para resolver un cierto problema, esta opción se habilita cuando $verbose = True$\n"
      ],
      "metadata": {
        "id": "Mq6bOvdEgzMr"
      }
    },
    {
      "cell_type": "code",
      "source": [
        "import random\n",
        "\n",
        "array = random.sample(range(-20,20),14)\n",
        "print(\"algoritmo de entrada: \\n\",array)\n",
        "i, j, suma = subArregloMaximo(array,True) # En el grafico de la guia low era el inicio del arreglo y high el final\n",
        "print(\"Indice menor: \", i)\n",
        "print(\"Indice mayor: \", j)\n",
        "print(\"Suma de subarreglo: \", suma)"
      ],
      "metadata": {
        "colab": {
          "base_uri": "https://localhost:8080/"
        },
        "id": "zpWrnbhnnKj1",
        "outputId": "f9a4f4de-da7c-4d91-a079-d67a90b4e034"
      },
      "execution_count": null,
      "outputs": [
        {
          "output_type": "stream",
          "name": "stdout",
          "text": [
            "se llama a la funcion maxMitad con un arreglo que va desde la posicion  0  hasta la  7\n",
            "o dicho de otra forma el lado izquierdo del arreglo original\n",
            "el punto mas bajo de un nuevo sub-arreglo  -26\n",
            "el punto mas alto de un nuevo sub-arreglo  -18 \n",
            "\n",
            "ahora comparemos el nuevo sub-arreglo con el que hemos encontrado anteriormente para ver quien es mayor\n",
            "amplitud de sub-arreglo nuevo:  8\n",
            "amplitud del maximo encontrado hasta el momento:  0 \n",
            "\n",
            "el nuevo sub-arreglo es mayor asi que lo guardaremos como el mayor y reiniciaremos las variables \n",
            "\n",
            "el punto mas bajo de un nuevo sub-arreglo  3\n",
            "el punto mas alto de un nuevo sub-arreglo  7 \n",
            "\n",
            "ahora comparemos el nuevo sub-arreglo con el que hemos encontrado anteriormente para ver quien es mayor\n",
            "amplitud de sub-arreglo nuevo:  4\n",
            "amplitud del maximo encontrado hasta el momento:  8 \n",
            "\n",
            "el sub-arreglo que se encontro anteriormente es mayor asi que seguimos buscando por un sub-arreglo que sea mayor a este \n",
            "\n",
            "se encontro el maximo sub-arreglo \n",
            "\n",
            "Indice menor:  1\n",
            "Indice mayor:  2\n",
            "Suma de subarreglo:  8\n",
            "se llama a la funcion maxMitad con un arreglo que va desde la posicion  7  hasta la  14\n",
            "o dicho de otra forma el lado derecho del arreglo original\n",
            "el punto mas bajo de un nuevo sub-arreglo  -10\n",
            "el punto mas alto de un nuevo sub-arreglo  -3 \n",
            "\n",
            "ahora comparemos el nuevo sub-arreglo con el que hemos encontrado anteriormente para ver quien es mayor\n",
            "amplitud de sub-arreglo nuevo:  7\n",
            "amplitud del maximo encontrado hasta el momento:  0 \n",
            "\n",
            "el nuevo sub-arreglo es mayor asi que lo guardaremos como el mayor y reiniciaremos las variables \n",
            "\n",
            "se encontro el maximo sub-arreglo \n",
            "\n",
            "Indice menor:  2\n",
            "Indice mayor:  2\n",
            "Suma de subarreglo:  7\n",
            "ahora que tenemos ambos sub-arreglos y se indices toma el indice mas bajo y el indice mas alto\n",
            "y se busca el mayor sub-arreglo entre ellos \n",
            "\n",
            "el punto mas bajo de un nuevo sub-arreglo  7\n",
            "el punto mas alto de un nuevo sub-arreglo  14 \n",
            "\n",
            "ahora comparemos el nuevo sub-arreglo con el que hemos encontrado anteriormente para ver quien es mayor\n",
            "amplitud de sub-arreglo nuevo:  7\n",
            "amplitud del maximo encontrado hasta el momento:  0 \n",
            "\n",
            "el nuevo sub-arreglo es mayor asi que lo guardaremos como el mayor y reiniciaremos las variables \n",
            "\n",
            "se encontro el maximo sub-arreglo \n",
            "\n",
            "Indice menor:  1\n",
            "Indice mayor:  2\n",
            "Suma de subarreglo:  7\n",
            "ahora comparamos a los sub-arreglos para encontrar el mayor entre ellos\n",
            "Indice menor:  1\n",
            "Indice mayor:  2\n",
            "Suma de subarreglo:  8\n"
          ]
        }
      ]
    },
    {
      "cell_type": "markdown",
      "source": [
        "#3. Tiempo de Ejecución\n",
        "\n",
        "El problema del sub-arreglo máximo puede ser implementado de distintas maneras, cada manera con un tiempo de ejecución distinto a los anteriores, pero ninguno de estos depende del como estén los datos, quiero decir que no existe diferencia alguna entre un supuesto $mejor$ o $peor$ caso, ambos presentan el mismo tiempo de ejecución. Esto es debido a que no existen situaciones en ambos casos que produzcan que ocurran más iteraciones o menos. \n",
        "La forma en que fue implementado este algoritmo antes es llamada \"divide y vencerás\", esto significa que el arreglo se va a dividir recursivamente a la mitad y cuando no pueda seguir dividiéndose se van a comenzar a sumar sus valores para buscar la suma mayor a medida que se van volviendo a unir los sub-arreglos.\n",
        "Por la forma en que esto se realiza, dividir constantemente para luego recorrer todos estos datos de forma lineal, tenemos que esta forma de implementación tiene la forma de $T(n) = 2T(n/2) + O(n)$ que es equivalente a $O(nlogn)$.\n"
      ],
      "metadata": {
        "id": "KBgAachq0GWE"
      }
    },
    {
      "cell_type": "markdown",
      "source": [
        "# 4.1 Correctitud de MaxSubArrayMid\n",
        "## Teorema\n",
        "\n",
        "La función MaxSubArrayMid retorna el subarreglo máximo que pasa por el medio del arreglo de entrada.\n",
        "\n",
        "## Prueba del teorema\n",
        "\n",
        "En cada iteración, se realiza un paso en el recorrido del arreglo desde el medio hacia una posición más cercana al inicio o el final, según la mitad. Asumiendo que *m* es el medio del arreglo y *s* el valor máximo, probaremos la siguiente propiedad invariante:\n",
        "> Al final de cada iteración, *s* es la suma máxima hasta ese punto.\n",
        "\n",
        "## Inicialización\n",
        "Al final de la primera iteración (*i = 0*), el elemento en la posición *m - 0* es la suma máxima, y como el subarreglo debe tener al menos un elemento, se cumple la propiedad.\n",
        "\n",
        "## Mantención\n",
        "Aplicando inducción, se puede asumir que al comienzo de cada iteración, *s* es la suma máxima hasta la posición anterior a *i*. Para mantener la propiedad, los elementos entre *m* y *m ± i* se suman y luego se comparan el valor de *s*. Si el valor de la nueva suma es mayor a *s*, su valor se actualiza y se seguirá cumpliendo la propiedad invariante.\n",
        "\n",
        "## Correctitud\n",
        "La propiedad invariante es verdadera al inicio del bucle y se mantiene en cada iteración. Por lo tanto, se puede decir que al finalizar el algoritmo, el resultado será un subarreglo con la suma máxima desde la posición *m* hasta *m ± n/2*.\n",
        "\n",
        "# 4.2 Correctitud de MaxSubArray\n",
        "## Teorema\n",
        "El algoritmo *maxSubArray* recibe un arreglo de n elementos y retorna el subarreglo que contiene el valor máximo al sumar todos sus elementos contiguos.\n",
        "\n",
        "## Prueba del teorema\n",
        "**Caso base:** Cuando sólo hay un elemento en el arreglo, el elemento máximo es el único que contiene. Por lo tanto, retorna este elemento.\n",
        "\n",
        "**Caso general (n>1):** Se asume que *maxSubArray* es correcto si el tamaño del arreglo es m < n.\n",
        "\n",
        "El algoritmo divide el arreglo en 2 mitades de largo n/2 si n > 1, y luego las procesa utilizando el mismo algoritmo. Como el tamaño de los algoritmos es menor a la del arreglo original, se cumple que m < n.\n"
      ],
      "metadata": {
        "id": "jUhncvMY76w0"
      }
    },
    {
      "cell_type": "markdown",
      "source": [
        "#5. Experimentos\n",
        "\n",
        "##5.1. Comparación del algoritmo\n",
        "\n",
        "En este experimento vamos a comparar el algoritmo creado en este informe con el algoritmo kadane, este algoritmo lleva a cabo la misma tarea que el algoritmo max sub-array, pero a diferencia de este kadane no es recursivo.\n"
      ],
      "metadata": {
        "id": "SbM3k5YS-K6a"
      }
    },
    {
      "cell_type": "code",
      "source": [
        "import matplotlib.pyplot as plt\n",
        "import datetime\n",
        "from timeit import repeat\n",
        "import random\n",
        "\n",
        "x=[]; y=[]\n",
        "x1=[]; y1=[]\n",
        "\n",
        "for n in range(5,500):\n",
        "\n",
        "  a = random.sample(range(-1000, 1000), n)\n",
        "\n",
        "  #la función repeat está ejecutando 20 veces cada algoritmo con el arreglo a y retorna el mejor tiepo obtenido para cada uno.\n",
        "  t = repeat(setup=\"from __main__ import subArregloMaximo\", stmt=f\"subArregloMaximo({a}, {False})\", repeat=1, number=10)\n",
        "\n",
        "  x.append(n)\n",
        "  y.append(t)\n",
        "\n",
        "  t = repeat(setup=\"from __main__ import kadane\", stmt=f\"kadane({a},{len(a)})\", repeat=1, number=10)\n",
        "\n",
        "  x1.append(n)\n",
        "  y1.append(t)\n",
        "\n",
        "\n",
        "plt.plot(x,y)\n",
        "plt.plot(x1,y1)\n",
        "plt.legend([\"subArregloMaximo algorithim\", \"Kadane algorithim\"])\n",
        "\n",
        "plt.xlabel('n')\n",
        "plt.ylabel('time in ms')\n",
        "plt.show()"
      ],
      "metadata": {
        "id": "V-jlEbTJj5fg",
        "colab": {
          "base_uri": "https://localhost:8080/",
          "height": 279
        },
        "outputId": "c575d288-8b44-468f-b2ca-add3a56ce9d2"
      },
      "execution_count": null,
      "outputs": [
        {
          "output_type": "display_data",
          "data": {
            "text/plain": [
              "<Figure size 432x288 with 1 Axes>"
            ],
            "image/png": "[encoded data removed]"
          },
          "metadata": {
            "needs_background": "light"
          }
        }
      ]
    },
    {
      "cell_type": "markdown",
      "source": [
        "###Análisis\n",
        "\n",
        "Como se apreciar el algoritmo kadane es más efectivo que el método recursivo, y se intenta decir cuál es la complejidad de este algoritmo, entonces es probable que este sea $O(n)$ mientras que el método recursivo posiblemente sea $O(n log(n)$.\n"
      ],
      "metadata": {
        "id": "_do32zLjtejq"
      }
    },
    {
      "cell_type": "markdown",
      "source": [
        "##5.2. Correctitud de los valores entregados por el algoritmo\n",
        "\n",
        "en el siguiente experimento comprobaremos lo correcto que son los valores que entrega el algoritmo **subArregloMaximo** a comparación del algoritmo **kadane**.\n",
        "\n",
        "el motivo que se utilizó al **algoritmo kadane** como base para hacer la comparación de correctitud del algoritmo **subArregloMaximo**, es por ser un método ya comprobado de ser funcional y por su eficacia a la hora de resolver el problema.\n"
      ],
      "metadata": {
        "id": "FyyYOByktlJb"
      }
    },
    {
      "cell_type": "code",
      "source": [
        "import matplotlib.pyplot as plt\n",
        "import random\n",
        "\n",
        "x=[]; y=[]\n",
        "x1=[]; y1=[]\n",
        "\n",
        "for n in range(5,50):\n",
        "\n",
        "  a = random.sample(range(-100, 100), n)\n",
        "  \n",
        "  min,max,sum = subArregloMaximo(a,False)\n",
        "\n",
        "  x.append(n)\n",
        "  y.append(sum)\n",
        "\n",
        "  sum = kadane(a,len(a))\n",
        "\n",
        "  x1.append(n)\n",
        "  y1.append(sum)\n",
        "\n",
        "\n",
        "plt.plot(x,y)\n",
        "plt.plot(x1,y1)\n",
        "plt.legend([\"subArregloMaximo value\", \"Kadane value\"])\n",
        "\n",
        "plt.xlabel('n')\n",
        "plt.ylabel('value of the sum of the max sub-array')\n",
        "plt.show()"
      ],
      "metadata": {
        "colab": {
          "base_uri": "https://localhost:8080/",
          "height": 280
        },
        "id": "aDBWqvrgFaBO",
        "outputId": "3eddff0e-39d6-4443-f3fc-393524c05c47"
      },
      "execution_count": null,
      "outputs": [
        {
          "output_type": "display_data",
          "data": {
            "text/plain": [
              "<Figure size 432x288 with 1 Axes>"
            ],
            "image/png": "[encoded data removed]"
          },
          "metadata": {
            "needs_background": "light"
          }
        }
      ]
    },
    {
      "cell_type": "markdown",
      "source": [
        "###Análisis\n",
        "\n",
        "Como se puede ver en la gráfica, el algoritmo entrega valores que en promedio son menores a los valores esperados.\n",
        "\n",
        "esto puede ser debido a una diferencia de análisis del problema, mientras que el algoritmo kadane está enfocado en encontrar dos puntos entre los cuales la suma de sus valores maximice la suma, mientras que el enfoque del algoritmo creado en este informe es de encontrar dos puntos entre los cuales se maximice la diferencia entre sus valores."
      ],
      "metadata": {
        "id": "wiVXcvQkusrE"
      }
    },
    {
      "cell_type": "markdown",
      "source": [
        "#6. Anexos\n",
        "\n",
        "##6.1. Algoritmo kadane\n",
        "\n",
        "El código que se ve a continuación es una implementación del algoritmo kadane necesario para poder hacer el experimento 5.1.\n"
      ],
      "metadata": {
        "id": "mqZ84S2TnaVc"
      }
    },
    {
      "cell_type": "code",
      "source": [
        "# Python program to print largest contiguous array sum\n",
        "  \n",
        "from sys import maxsize\n",
        "  \n",
        "# Function to find the maximum contiguous subarray\n",
        "# and print its starting and end index\n",
        "def kadane(a,size):\n",
        "  \n",
        "  max_so_far = -maxsize - 1\n",
        "  max_ending_here = 0\n",
        "  start = 0\n",
        "  end = 0\n",
        "  s = 0\n",
        "  \n",
        "  for i in range(0,size):\n",
        "  \n",
        "    max_ending_here += a[i]\n",
        "  \n",
        "    if max_so_far < max_ending_here:\n",
        "        max_so_far = max_ending_here\n",
        "        start = s\n",
        "        end = i\n",
        "  \n",
        "    if max_ending_here < 0:\n",
        "        max_ending_here = 0\n",
        "        s = i+1\n",
        "\n",
        "  return max_so_far\n",
        "  \n",
        "    # print (\"Maximum contiguous sum is %d\"%(max_so_far))\n",
        "    # print (\"Starting Index %d\"%(start))\n",
        "    # print (\"Ending Index %d\"%(end))"
      ],
      "metadata": {
        "id": "c1vj6LJFfUDD"
      },
      "execution_count": null,
      "outputs": []
    }
  ],
  "metadata": {
    "colab": {
      "name": "Sub-arreglo maximo",
      "provenance": [],
      "collapsed_sections": [],
      "authorship_tag": "ABX9TyNDKup/9z5d9WrdAxtDDW8N",
      "include_colab_link": true
    },
    "kernelspec": {
      "display_name": "Python 3",
      "name": "python3"
    },
    "language_info": {
      "name": "python"
    }
  },
  "nbformat": 4,
  "nbformat_minor": 0
}